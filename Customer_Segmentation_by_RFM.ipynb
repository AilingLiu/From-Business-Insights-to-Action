{
  "nbformat": 4,
  "nbformat_minor": 0,
  "metadata": {
    "colab": {
      "name": "Customer_Segmentation_by_RFM.ipynb",
      "provenance": [],
      "authorship_tag": "ABX9TyNmE/zeT8hmDinggRPt4aDJ",
      "include_colab_link": true
    },
    "kernelspec": {
      "name": "python3",
      "display_name": "Python 3"
    }
  },
  "cells": [
    {
      "cell_type": "markdown",
      "metadata": {
        "id": "view-in-github",
        "colab_type": "text"
      },
      "source": [
        "<a href=\"https://colab.research.google.com/github/AilingLiu/From-Business-Insights-to-Action/blob/master/Customer_Segmentation_by_RFM.ipynb\" target=\"_parent\"><img src=\"https://colab.research.google.com/assets/colab-badge.svg\" alt=\"Open In Colab\"/></a>"
      ]
    },
    {
      "cell_type": "code",
      "metadata": {
        "id": "u9XuypwhZ_9Y",
        "colab_type": "code",
        "colab": {}
      },
      "source": [
        "import pandas as pd\n",
        "import numpy as np\n",
        "import matplotlib.pyplot as plt\n",
        "import matplotlib as mpl\n",
        "mpl.rc('xtick', labelsize=12)\n",
        "mpl.rc('ytick', labelsize=12)\n",
        "import seaborn as sns"
      ],
      "execution_count": 0,
      "outputs": []
    },
    {
      "cell_type": "markdown",
      "metadata": {
        "id": "B1BofwCDaoyq",
        "colab_type": "text"
      },
      "source": [
        "Check [here](https://towardsdatascience.com/data-driven-growth-with-python-part-2-customer-segmentation-5c019d150444) to understand what is RFM. \n",
        "\n",
        "R: recency, the last time that customer being active till the point of analysis\n",
        "F: frequency, how frequent the customer is using the product/being online\n",
        "M: monetary, how much revenue company gained from the customer\n",
        "\n",
        "RFM is one of the traditional measurements of customer segmentation. Customer segmentation gives company direction where to put retention efforts.\n",
        "\n",
        "In the article refered above, the author calculate the frequency and revenue from customer alive till analysis point. As far as I am concerned, this will reduce the RFM score from new clients, who only starts to use the product recently, so high revenue and high frequency are unlikely. \n",
        "\n",
        "Moreoever, the author uses KMeans to categorize each RFM metric. Here, I will be only using percentile of where the customer's RFM sits in the sample as label.\n",
        "\n",
        "After creating the RFM score, I will use KMeans and graph to identify customer groups."
      ]
    },
    {
      "cell_type": "markdown",
      "metadata": {
        "id": "mLyRlQGEdUBc",
        "colab_type": "text"
      },
      "source": [
        "# create recency"
      ]
    },
    {
      "cell_type": "code",
      "metadata": {
        "id": "1gfxljwYaZsv",
        "colab_type": "code",
        "colab": {}
      },
      "source": [
        ""
      ],
      "execution_count": 0,
      "outputs": []
    },
    {
      "cell_type": "markdown",
      "metadata": {
        "id": "_smqKf-NdYar",
        "colab_type": "text"
      },
      "source": [
        "# create frequency"
      ]
    },
    {
      "cell_type": "code",
      "metadata": {
        "id": "tEBUsgOMdcrL",
        "colab_type": "code",
        "colab": {}
      },
      "source": [
        ""
      ],
      "execution_count": 0,
      "outputs": []
    },
    {
      "cell_type": "markdown",
      "metadata": {
        "id": "j957l6XDddd7",
        "colab_type": "text"
      },
      "source": [
        "# create revenue"
      ]
    },
    {
      "cell_type": "code",
      "metadata": {
        "id": "5r6rZ8fUde9b",
        "colab_type": "code",
        "colab": {}
      },
      "source": [
        ""
      ],
      "execution_count": 0,
      "outputs": []
    },
    {
      "cell_type": "markdown",
      "metadata": {
        "id": "D3RmcJXRdqIt",
        "colab_type": "text"
      },
      "source": [
        "# K Means clustering"
      ]
    },
    {
      "cell_type": "code",
      "metadata": {
        "id": "42ZK2qeDdrRk",
        "colab_type": "code",
        "colab": {}
      },
      "source": [
        ""
      ],
      "execution_count": 0,
      "outputs": []
    }
  ]
}
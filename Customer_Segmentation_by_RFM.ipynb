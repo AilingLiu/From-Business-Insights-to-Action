{
  "nbformat": 4,
  "nbformat_minor": 0,
  "metadata": {
    "colab": {
      "name": "Customer_Segmentation_by_RFM.ipynb",
      "provenance": [],
      "toc_visible": true,
      "authorship_tag": "ABX9TyOrLUViX7mCI4mLeddtq5Az",
      "include_colab_link": true
    },
    "kernelspec": {
      "name": "python3",
      "display_name": "Python 3"
    }
  },
  "cells": [
    {
      "cell_type": "markdown",
      "metadata": {
        "id": "view-in-github",
        "colab_type": "text"
      },
      "source": [
        "<a href=\"https://colab.research.google.com/github/AilingLiu/From-Business-Insights-to-Action/blob/master/Customer_Segmentation_by_RFM.ipynb\" target=\"_parent\"><img src=\"https://colab.research.google.com/assets/colab-badge.svg\" alt=\"Open In Colab\"/></a>"
      ]
    },
    {
      "cell_type": "code",
      "metadata": {
        "id": "u9XuypwhZ_9Y",
        "colab_type": "code",
        "colab": {}
      },
      "source": [
        "import pandas as pd\n",
        "import numpy as np\n",
        "import matplotlib.pyplot as plt\n",
        "import matplotlib as mpl\n",
        "mpl.rc('xtick', labelsize=12)\n",
        "mpl.rc('ytick', labelsize=12)\n",
        "import seaborn as sns"
      ],
      "execution_count": 0,
      "outputs": []
    },
    {
      "cell_type": "markdown",
      "metadata": {
        "id": "B1BofwCDaoyq",
        "colab_type": "text"
      },
      "source": [
        "Check [here](https://towardsdatascience.com/data-driven-growth-with-python-part-2-customer-segmentation-5c019d150444) to understand what is RFM. \n",
        "\n",
        "- R: recency, the last time that customer being active till the point of analysis\n",
        "- F: frequency, how frequent the customer is using the product/being online\n",
        "- M: monetary, how much revenue company gained from the customer\n",
        "\n",
        "RFM is one of the traditional measurements of customer segmentation. Customer segmentation gives your company direction where to put retention efforts.\n",
        "\n",
        "In the article referred above, the author calculate the frequency and revenue from customer alive till analysis point. As far as I am concerned, this will reduce the RFM score from new clients, who only starts to use the product recently, so high revenue and high frequency are unlikely. \n",
        "\n",
        "Moreoever, the author uses KMeans to categorize each RFM metric. Here, I will be only using percentile of where the customer's RFM sits in the sample as label.\n",
        "\n",
        "After creating the RFM score, I will use segement the customer groups by popular segmentation standards."
      ]
    },
    {
      "cell_type": "markdown",
      "metadata": {
        "id": "25OfojqgLeSB",
        "colab_type": "text"
      },
      "source": [
        "# Get the data"
      ]
    },
    {
      "cell_type": "code",
      "metadata": {
        "id": "UbsJfhmrLds6",
        "colab_type": "code",
        "outputId": "151ad107-b18f-455e-d293-b1253314ede2",
        "colab": {
          "base_uri": "https://localhost:8080/",
          "height": 198
        }
      },
      "source": [
        "url = 'https://github.com/AilingLiu/Growth_Analysis/blob/master/Data/online_retail.csv?raw=true'\n",
        "\n",
        "data = pd.read_csv(url, sep=',', parse_dates=['InvoiceDate'], encoding='latin-1')\n",
        "data.head()"
      ],
      "execution_count": 2,
      "outputs": [
        {
          "output_type": "execute_result",
          "data": {
            "text/html": [
              "<div>\n",
              "<style scoped>\n",
              "    .dataframe tbody tr th:only-of-type {\n",
              "        vertical-align: middle;\n",
              "    }\n",
              "\n",
              "    .dataframe tbody tr th {\n",
              "        vertical-align: top;\n",
              "    }\n",
              "\n",
              "    .dataframe thead th {\n",
              "        text-align: right;\n",
              "    }\n",
              "</style>\n",
              "<table border=\"1\" class=\"dataframe\">\n",
              "  <thead>\n",
              "    <tr style=\"text-align: right;\">\n",
              "      <th></th>\n",
              "      <th>InvoiceNo</th>\n",
              "      <th>StockCode</th>\n",
              "      <th>Description</th>\n",
              "      <th>Quantity</th>\n",
              "      <th>InvoiceDate</th>\n",
              "      <th>UnitPrice</th>\n",
              "      <th>CustomerID</th>\n",
              "      <th>Country</th>\n",
              "    </tr>\n",
              "  </thead>\n",
              "  <tbody>\n",
              "    <tr>\n",
              "      <th>0</th>\n",
              "      <td>536365</td>\n",
              "      <td>85123A</td>\n",
              "      <td>WHITE HANGING HEART T-LIGHT HOLDER</td>\n",
              "      <td>6</td>\n",
              "      <td>2010-12-01 08:26:00</td>\n",
              "      <td>2.55</td>\n",
              "      <td>17850.0</td>\n",
              "      <td>United Kingdom</td>\n",
              "    </tr>\n",
              "    <tr>\n",
              "      <th>1</th>\n",
              "      <td>536365</td>\n",
              "      <td>71053</td>\n",
              "      <td>WHITE METAL LANTERN</td>\n",
              "      <td>6</td>\n",
              "      <td>2010-12-01 08:26:00</td>\n",
              "      <td>3.39</td>\n",
              "      <td>17850.0</td>\n",
              "      <td>United Kingdom</td>\n",
              "    </tr>\n",
              "    <tr>\n",
              "      <th>2</th>\n",
              "      <td>536365</td>\n",
              "      <td>84406B</td>\n",
              "      <td>CREAM CUPID HEARTS COAT HANGER</td>\n",
              "      <td>8</td>\n",
              "      <td>2010-12-01 08:26:00</td>\n",
              "      <td>2.75</td>\n",
              "      <td>17850.0</td>\n",
              "      <td>United Kingdom</td>\n",
              "    </tr>\n",
              "    <tr>\n",
              "      <th>3</th>\n",
              "      <td>536365</td>\n",
              "      <td>84029G</td>\n",
              "      <td>KNITTED UNION FLAG HOT WATER BOTTLE</td>\n",
              "      <td>6</td>\n",
              "      <td>2010-12-01 08:26:00</td>\n",
              "      <td>3.39</td>\n",
              "      <td>17850.0</td>\n",
              "      <td>United Kingdom</td>\n",
              "    </tr>\n",
              "    <tr>\n",
              "      <th>4</th>\n",
              "      <td>536365</td>\n",
              "      <td>84029E</td>\n",
              "      <td>RED WOOLLY HOTTIE WHITE HEART.</td>\n",
              "      <td>6</td>\n",
              "      <td>2010-12-01 08:26:00</td>\n",
              "      <td>3.39</td>\n",
              "      <td>17850.0</td>\n",
              "      <td>United Kingdom</td>\n",
              "    </tr>\n",
              "  </tbody>\n",
              "</table>\n",
              "</div>"
            ],
            "text/plain": [
              "  InvoiceNo StockCode  ... CustomerID         Country\n",
              "0    536365    85123A  ...    17850.0  United Kingdom\n",
              "1    536365     71053  ...    17850.0  United Kingdom\n",
              "2    536365    84406B  ...    17850.0  United Kingdom\n",
              "3    536365    84029G  ...    17850.0  United Kingdom\n",
              "4    536365    84029E  ...    17850.0  United Kingdom\n",
              "\n",
              "[5 rows x 8 columns]"
            ]
          },
          "metadata": {
            "tags": []
          },
          "execution_count": 2
        }
      ]
    },
    {
      "cell_type": "code",
      "metadata": {
        "id": "Hr1Gz3Igc65I",
        "colab_type": "code",
        "outputId": "b3d52ea7-f496-4016-c281-ddddd13f1a0c",
        "colab": {
          "base_uri": "https://localhost:8080/",
          "height": 254
        }
      },
      "source": [
        "data.info()"
      ],
      "execution_count": 0,
      "outputs": [
        {
          "output_type": "stream",
          "text": [
            "<class 'pandas.core.frame.DataFrame'>\n",
            "RangeIndex: 541909 entries, 0 to 541908\n",
            "Data columns (total 8 columns):\n",
            "InvoiceNo      541909 non-null object\n",
            "StockCode      541909 non-null object\n",
            "Description    540455 non-null object\n",
            "Quantity       541909 non-null int64\n",
            "InvoiceDate    541909 non-null datetime64[ns]\n",
            "UnitPrice      541909 non-null float64\n",
            "CustomerID     406829 non-null float64\n",
            "Country        541909 non-null object\n",
            "dtypes: datetime64[ns](1), float64(2), int64(1), object(4)\n",
            "memory usage: 33.1+ MB\n"
          ],
          "name": "stdout"
        }
      ]
    },
    {
      "cell_type": "code",
      "metadata": {
        "id": "UWtBuF-8c96x",
        "colab_type": "code",
        "outputId": "ce18affd-b354-4e12-9e05-544e22e5999e",
        "colab": {
          "base_uri": "https://localhost:8080/",
          "height": 288
        }
      },
      "source": [
        "data.describe()"
      ],
      "execution_count": 0,
      "outputs": [
        {
          "output_type": "execute_result",
          "data": {
            "text/html": [
              "<div>\n",
              "<style scoped>\n",
              "    .dataframe tbody tr th:only-of-type {\n",
              "        vertical-align: middle;\n",
              "    }\n",
              "\n",
              "    .dataframe tbody tr th {\n",
              "        vertical-align: top;\n",
              "    }\n",
              "\n",
              "    .dataframe thead th {\n",
              "        text-align: right;\n",
              "    }\n",
              "</style>\n",
              "<table border=\"1\" class=\"dataframe\">\n",
              "  <thead>\n",
              "    <tr style=\"text-align: right;\">\n",
              "      <th></th>\n",
              "      <th>Quantity</th>\n",
              "      <th>UnitPrice</th>\n",
              "      <th>CustomerID</th>\n",
              "    </tr>\n",
              "  </thead>\n",
              "  <tbody>\n",
              "    <tr>\n",
              "      <th>count</th>\n",
              "      <td>541909.000000</td>\n",
              "      <td>541909.000000</td>\n",
              "      <td>406829.000000</td>\n",
              "    </tr>\n",
              "    <tr>\n",
              "      <th>mean</th>\n",
              "      <td>9.552250</td>\n",
              "      <td>4.611114</td>\n",
              "      <td>15287.690570</td>\n",
              "    </tr>\n",
              "    <tr>\n",
              "      <th>std</th>\n",
              "      <td>218.081158</td>\n",
              "      <td>96.759853</td>\n",
              "      <td>1713.600303</td>\n",
              "    </tr>\n",
              "    <tr>\n",
              "      <th>min</th>\n",
              "      <td>-80995.000000</td>\n",
              "      <td>-11062.060000</td>\n",
              "      <td>12346.000000</td>\n",
              "    </tr>\n",
              "    <tr>\n",
              "      <th>25%</th>\n",
              "      <td>1.000000</td>\n",
              "      <td>1.250000</td>\n",
              "      <td>13953.000000</td>\n",
              "    </tr>\n",
              "    <tr>\n",
              "      <th>50%</th>\n",
              "      <td>3.000000</td>\n",
              "      <td>2.080000</td>\n",
              "      <td>15152.000000</td>\n",
              "    </tr>\n",
              "    <tr>\n",
              "      <th>75%</th>\n",
              "      <td>10.000000</td>\n",
              "      <td>4.130000</td>\n",
              "      <td>16791.000000</td>\n",
              "    </tr>\n",
              "    <tr>\n",
              "      <th>max</th>\n",
              "      <td>80995.000000</td>\n",
              "      <td>38970.000000</td>\n",
              "      <td>18287.000000</td>\n",
              "    </tr>\n",
              "  </tbody>\n",
              "</table>\n",
              "</div>"
            ],
            "text/plain": [
              "            Quantity      UnitPrice     CustomerID\n",
              "count  541909.000000  541909.000000  406829.000000\n",
              "mean        9.552250       4.611114   15287.690570\n",
              "std       218.081158      96.759853    1713.600303\n",
              "min    -80995.000000  -11062.060000   12346.000000\n",
              "25%         1.000000       1.250000   13953.000000\n",
              "50%         3.000000       2.080000   15152.000000\n",
              "75%        10.000000       4.130000   16791.000000\n",
              "max     80995.000000   38970.000000   18287.000000"
            ]
          },
          "metadata": {
            "tags": []
          },
          "execution_count": 13
        }
      ]
    },
    {
      "cell_type": "markdown",
      "metadata": {
        "id": "j_Ed9_W4dFUm",
        "colab_type": "text"
      },
      "source": [
        "# Clean up data"
      ]
    },
    {
      "cell_type": "code",
      "metadata": {
        "id": "sdQCjlBidGvr",
        "colab_type": "code",
        "colab": {}
      },
      "source": [
        "# clean up the negative quantity and unit price\n",
        "df = data.loc[(data['Quantity'] >=0)&(data['UnitPrice']>=0), :]\n",
        "\n",
        "# clean up rows where customerid is unknown\n",
        "mask =df['CustomerID'].isnull() \n",
        "df = df.loc[~mask, :]"
      ],
      "execution_count": 0,
      "outputs": []
    },
    {
      "cell_type": "code",
      "metadata": {
        "id": "hDYApgK7eOH9",
        "colab_type": "code",
        "outputId": "3c7b713d-976d-4688-f115-e65ffc62472d",
        "colab": {
          "base_uri": "https://localhost:8080/",
          "height": 254
        }
      },
      "source": [
        "df.info()"
      ],
      "execution_count": 0,
      "outputs": [
        {
          "output_type": "stream",
          "text": [
            "<class 'pandas.core.frame.DataFrame'>\n",
            "Int64Index: 397924 entries, 0 to 541908\n",
            "Data columns (total 8 columns):\n",
            "InvoiceNo      397924 non-null object\n",
            "StockCode      397924 non-null object\n",
            "Description    397924 non-null object\n",
            "Quantity       397924 non-null int64\n",
            "InvoiceDate    397924 non-null datetime64[ns]\n",
            "UnitPrice      397924 non-null float64\n",
            "CustomerID     397924 non-null float64\n",
            "Country        397924 non-null object\n",
            "dtypes: datetime64[ns](1), float64(2), int64(1), object(4)\n",
            "memory usage: 27.3+ MB\n"
          ],
          "name": "stdout"
        }
      ]
    },
    {
      "cell_type": "code",
      "metadata": {
        "id": "2irIhefBtcrS",
        "colab_type": "code",
        "outputId": "56b6125e-933e-476a-c8ca-e9a372ae1348",
        "colab": {
          "base_uri": "https://localhost:8080/",
          "height": 35
        }
      },
      "source": [
        "df['CustomerID'].nunique()"
      ],
      "execution_count": 0,
      "outputs": [
        {
          "output_type": "execute_result",
          "data": {
            "text/plain": [
              "4339"
            ]
          },
          "metadata": {
            "tags": []
          },
          "execution_count": 83
        }
      ]
    },
    {
      "cell_type": "markdown",
      "metadata": {
        "id": "X3x6ss6Rtg-r",
        "colab_type": "text"
      },
      "source": [
        "We have 4339 unique customers after cleaning."
      ]
    },
    {
      "cell_type": "code",
      "metadata": {
        "id": "sFuHcoSmflLK",
        "colab_type": "code",
        "outputId": "bd7ecaa1-599d-4173-bf62-68e0a65fb978",
        "colab": {
          "base_uri": "https://localhost:8080/",
          "height": 288
        }
      },
      "source": [
        "df.describe()"
      ],
      "execution_count": 0,
      "outputs": [
        {
          "output_type": "execute_result",
          "data": {
            "text/html": [
              "<div>\n",
              "<style scoped>\n",
              "    .dataframe tbody tr th:only-of-type {\n",
              "        vertical-align: middle;\n",
              "    }\n",
              "\n",
              "    .dataframe tbody tr th {\n",
              "        vertical-align: top;\n",
              "    }\n",
              "\n",
              "    .dataframe thead th {\n",
              "        text-align: right;\n",
              "    }\n",
              "</style>\n",
              "<table border=\"1\" class=\"dataframe\">\n",
              "  <thead>\n",
              "    <tr style=\"text-align: right;\">\n",
              "      <th></th>\n",
              "      <th>Quantity</th>\n",
              "      <th>UnitPrice</th>\n",
              "      <th>CustomerID</th>\n",
              "    </tr>\n",
              "  </thead>\n",
              "  <tbody>\n",
              "    <tr>\n",
              "      <th>count</th>\n",
              "      <td>397924.000000</td>\n",
              "      <td>397924.000000</td>\n",
              "      <td>397924.000000</td>\n",
              "    </tr>\n",
              "    <tr>\n",
              "      <th>mean</th>\n",
              "      <td>13.021823</td>\n",
              "      <td>3.116174</td>\n",
              "      <td>15294.315171</td>\n",
              "    </tr>\n",
              "    <tr>\n",
              "      <th>std</th>\n",
              "      <td>180.420210</td>\n",
              "      <td>22.096788</td>\n",
              "      <td>1713.169877</td>\n",
              "    </tr>\n",
              "    <tr>\n",
              "      <th>min</th>\n",
              "      <td>1.000000</td>\n",
              "      <td>0.000000</td>\n",
              "      <td>12346.000000</td>\n",
              "    </tr>\n",
              "    <tr>\n",
              "      <th>25%</th>\n",
              "      <td>2.000000</td>\n",
              "      <td>1.250000</td>\n",
              "      <td>13969.000000</td>\n",
              "    </tr>\n",
              "    <tr>\n",
              "      <th>50%</th>\n",
              "      <td>6.000000</td>\n",
              "      <td>1.950000</td>\n",
              "      <td>15159.000000</td>\n",
              "    </tr>\n",
              "    <tr>\n",
              "      <th>75%</th>\n",
              "      <td>12.000000</td>\n",
              "      <td>3.750000</td>\n",
              "      <td>16795.000000</td>\n",
              "    </tr>\n",
              "    <tr>\n",
              "      <th>max</th>\n",
              "      <td>80995.000000</td>\n",
              "      <td>8142.750000</td>\n",
              "      <td>18287.000000</td>\n",
              "    </tr>\n",
              "  </tbody>\n",
              "</table>\n",
              "</div>"
            ],
            "text/plain": [
              "            Quantity      UnitPrice     CustomerID\n",
              "count  397924.000000  397924.000000  397924.000000\n",
              "mean       13.021823       3.116174   15294.315171\n",
              "std       180.420210      22.096788    1713.169877\n",
              "min         1.000000       0.000000   12346.000000\n",
              "25%         2.000000       1.250000   13969.000000\n",
              "50%         6.000000       1.950000   15159.000000\n",
              "75%        12.000000       3.750000   16795.000000\n",
              "max     80995.000000    8142.750000   18287.000000"
            ]
          },
          "metadata": {
            "tags": []
          },
          "execution_count": 21
        }
      ]
    },
    {
      "cell_type": "markdown",
      "metadata": {
        "id": "PjQBdph3NSxE",
        "colab_type": "text"
      },
      "source": [
        "## Grouping based on RFM"
      ]
    },
    {
      "cell_type": "code",
      "metadata": {
        "id": "nYxeFysuGMio",
        "colab_type": "code",
        "outputId": "5af19369-f570-4f60-baa6-bcfa6b4b67a3",
        "colab": {
          "base_uri": "https://localhost:8080/",
          "height": 228
        }
      },
      "source": [
        "df['TotalPrice'] = df['UnitPrice'] * df['Quantity']\n",
        "\n",
        "gb=df.groupby(['CustomerID']).agg(\n",
        "    Last_Order_Date=('InvoiceDate', 'max'),\n",
        "    Total_Orders=('InvoiceNo', 'nunique'),\n",
        "    Total_Revenue=('TotalPrice', 'sum'))\n",
        "\n",
        "gb.head()"
      ],
      "execution_count": 4,
      "outputs": [
        {
          "output_type": "execute_result",
          "data": {
            "text/html": [
              "<div>\n",
              "<style scoped>\n",
              "    .dataframe tbody tr th:only-of-type {\n",
              "        vertical-align: middle;\n",
              "    }\n",
              "\n",
              "    .dataframe tbody tr th {\n",
              "        vertical-align: top;\n",
              "    }\n",
              "\n",
              "    .dataframe thead th {\n",
              "        text-align: right;\n",
              "    }\n",
              "</style>\n",
              "<table border=\"1\" class=\"dataframe\">\n",
              "  <thead>\n",
              "    <tr style=\"text-align: right;\">\n",
              "      <th></th>\n",
              "      <th>Last_Order_Date</th>\n",
              "      <th>Total_Orders</th>\n",
              "      <th>Total_Revenue</th>\n",
              "    </tr>\n",
              "    <tr>\n",
              "      <th>CustomerID</th>\n",
              "      <th></th>\n",
              "      <th></th>\n",
              "      <th></th>\n",
              "    </tr>\n",
              "  </thead>\n",
              "  <tbody>\n",
              "    <tr>\n",
              "      <th>12346.0</th>\n",
              "      <td>2011-01-18 10:01:00</td>\n",
              "      <td>1</td>\n",
              "      <td>77183.60</td>\n",
              "    </tr>\n",
              "    <tr>\n",
              "      <th>12347.0</th>\n",
              "      <td>2011-12-07 15:52:00</td>\n",
              "      <td>7</td>\n",
              "      <td>4310.00</td>\n",
              "    </tr>\n",
              "    <tr>\n",
              "      <th>12348.0</th>\n",
              "      <td>2011-09-25 13:13:00</td>\n",
              "      <td>4</td>\n",
              "      <td>1797.24</td>\n",
              "    </tr>\n",
              "    <tr>\n",
              "      <th>12349.0</th>\n",
              "      <td>2011-11-21 09:51:00</td>\n",
              "      <td>1</td>\n",
              "      <td>1757.55</td>\n",
              "    </tr>\n",
              "    <tr>\n",
              "      <th>12350.0</th>\n",
              "      <td>2011-02-02 16:01:00</td>\n",
              "      <td>1</td>\n",
              "      <td>334.40</td>\n",
              "    </tr>\n",
              "  </tbody>\n",
              "</table>\n",
              "</div>"
            ],
            "text/plain": [
              "               Last_Order_Date  Total_Orders  Total_Revenue\n",
              "CustomerID                                                 \n",
              "12346.0    2011-01-18 10:01:00             1       77183.60\n",
              "12347.0    2011-12-07 15:52:00             7        4310.00\n",
              "12348.0    2011-09-25 13:13:00             4        1797.24\n",
              "12349.0    2011-11-21 09:51:00             1        1757.55\n",
              "12350.0    2011-02-02 16:01:00             1         334.40"
            ]
          },
          "metadata": {
            "tags": []
          },
          "execution_count": 4
        }
      ]
    },
    {
      "cell_type": "markdown",
      "metadata": {
        "id": "mLyRlQGEdUBc",
        "colab_type": "text"
      },
      "source": [
        "# create recency index"
      ]
    },
    {
      "cell_type": "markdown",
      "metadata": {
        "id": "PyZnjtABPBG5",
        "colab_type": "text"
      },
      "source": [
        "Recency: Data collection date - customer last invoice date"
      ]
    },
    {
      "cell_type": "code",
      "metadata": {
        "id": "yYsb77k4Iftk",
        "colab_type": "code",
        "colab": {}
      },
      "source": [
        "m = gb['Last_Order_Date'].max().normalize()\n",
        "\n",
        "diff = lambda x: (m-x.normalize()).days\n",
        "gb['Recency'] = gb['Last_Order_Date'].transform(diff)"
      ],
      "execution_count": 0,
      "outputs": []
    },
    {
      "cell_type": "code",
      "metadata": {
        "id": "Wz2xy-E0J3uq",
        "colab_type": "code",
        "outputId": "0d885be4-6d6c-4089-9751-4f345308e922",
        "colab": {
          "base_uri": "https://localhost:8080/",
          "height": 516
        }
      },
      "source": [
        "gb['Rcdf']= gb['Recency'].rank(method = 'average', pct = True)\n",
        "\n",
        "ax1 =gb['Recency'].plot.hist(bins=20, \n",
        "                        figsize=(10, 8),\n",
        "                        color='DarkOrange',\n",
        "                        title='Histogram and CDF of Recency(days)')\n",
        "\n",
        "ax2=gb.sort_values('Recency').plot(x='Recency', \n",
        "                                  y='Rcdf',\n",
        "                                  ax=ax1,\n",
        "                                  secondary_y=True)\n",
        "ax2.set_ylabel('CDF')\n",
        "plt.xlabel('Recency(days)')\n",
        "plt.show()"
      ],
      "execution_count": 6,
      "outputs": [
        {
          "output_type": "display_data",
          "data": {
            "image/png": "[encoded data removed]",
            "text/plain": [
              "<Figure size 720x576 with 2 Axes>"
            ]
          },
          "metadata": {
            "tags": []
          }
        }
      ]
    },
    {
      "cell_type": "code",
      "metadata": {
        "id": "yRvHWUfCKp4j",
        "colab_type": "code",
        "outputId": "cbbba4b9-b096-4162-d6e3-a2004a3d0b75",
        "colab": {
          "base_uri": "https://localhost:8080/",
          "height": 181
        }
      },
      "source": [
        "gb['Recency'].describe()"
      ],
      "execution_count": 0,
      "outputs": [
        {
          "output_type": "execute_result",
          "data": {
            "text/plain": [
              "count    4339.000000\n",
              "mean       92.041484\n",
              "std       100.007757\n",
              "min         0.000000\n",
              "25%        17.000000\n",
              "50%        50.000000\n",
              "75%       141.500000\n",
              "max       373.000000\n",
              "Name: Recency, dtype: float64"
            ]
          },
          "metadata": {
            "tags": []
          },
          "execution_count": 150
        }
      ]
    },
    {
      "cell_type": "markdown",
      "metadata": {
        "id": "jG-WHycnjKtb",
        "colab_type": "text"
      },
      "source": [
        "50% of the customers have recency within the last 50 days, among which 25% of them have recency within 17 days. About 25% of customers have more than 5 months recency.\n",
        "\n",
        "A good way to categorize the Recency is to use percentile. Here we can cut it into four categories [.25, .5, .75, 1], based on percentile.\n"
      ]
    },
    {
      "cell_type": "code",
      "metadata": {
        "id": "nvUu2G6aKyPx",
        "colab_type": "code",
        "outputId": "0561aba2-11be-4921-8ae5-3cfa322c491a",
        "colab": {
          "base_uri": "https://localhost:8080/",
          "height": 126
        }
      },
      "source": [
        "gb['RecencyInd'] = pd.qcut(gb['Recency'], 4, labels=[1, 2, 3, 4])\n",
        "gb.groupby('RecencyInd')['Recency'].max()"
      ],
      "execution_count": 116,
      "outputs": [
        {
          "output_type": "execute_result",
          "data": {
            "text/plain": [
              "RecencyInd\n",
              "1     17\n",
              "2     50\n",
              "3    141\n",
              "4    373\n",
              "Name: Recency, dtype: int64"
            ]
          },
          "metadata": {
            "tags": []
          },
          "execution_count": 116
        }
      ]
    },
    {
      "cell_type": "markdown",
      "metadata": {
        "id": "_smqKf-NdYar",
        "colab_type": "text"
      },
      "source": [
        "# create frequency index"
      ]
    },
    {
      "cell_type": "markdown",
      "metadata": {
        "id": "s_yUFHt1FOJR",
        "colab_type": "text"
      },
      "source": [
        "My interest of frequncy is the total number of orders customer placd, while the author from the reference blog consider total invoice date as frequency meansurement. "
      ]
    },
    {
      "cell_type": "code",
      "metadata": {
        "id": "o4MQ96T0L7PJ",
        "colab_type": "code",
        "outputId": "7c17aabd-ed63-4933-9832-cde343994adf",
        "colab": {
          "base_uri": "https://localhost:8080/",
          "height": 181
        }
      },
      "source": [
        "gb['Total_Orders'].describe()"
      ],
      "execution_count": 0,
      "outputs": [
        {
          "output_type": "execute_result",
          "data": {
            "text/plain": [
              "count    4339.000000\n",
              "mean        4.271952\n",
              "std         7.705493\n",
              "min         1.000000\n",
              "25%         1.000000\n",
              "50%         2.000000\n",
              "75%         5.000000\n",
              "max       210.000000\n",
              "Name: Total_Orders, dtype: float64"
            ]
          },
          "metadata": {
            "tags": []
          },
          "execution_count": 153
        }
      ]
    },
    {
      "cell_type": "code",
      "metadata": {
        "id": "EAD9S5JjOH3L",
        "colab_type": "code",
        "outputId": "1ee1d16b-c450-4a6a-a6c3-b8d62d181556",
        "colab": {
          "base_uri": "https://localhost:8080/",
          "height": 486
        }
      },
      "source": [
        "gb['Total_Orders'].plot(kind='box',\n",
        "                        figsize=(10, 8))\n",
        "plt.show()"
      ],
      "execution_count": 0,
      "outputs": [
        {
          "output_type": "display_data",
          "data": {
            "image/png": "[encoded data removed]",
            "text/plain": [
              "<Figure size 720x576 with 1 Axes>"
            ]
          },
          "metadata": {
            "tags": []
          }
        }
      ]
    },
    {
      "cell_type": "markdown",
      "metadata": {
        "id": "v2fo14AeMOm8",
        "colab_type": "text"
      },
      "source": [
        "There is a long whisker at the upper end. Some customers place much more orders than others on average."
      ]
    },
    {
      "cell_type": "code",
      "metadata": {
        "id": "tEBUsgOMdcrL",
        "colab_type": "code",
        "outputId": "134166b6-18a9-433b-9c3e-102c79cd0b60",
        "colab": {
          "base_uri": "https://localhost:8080/",
          "height": 517
        }
      },
      "source": [
        "gb['Fcdf']= gb['Total_Orders'].rank(method = 'average', pct = True)\n",
        "\n",
        "ax1 =gb['Total_Orders'].plot.hist(bins=30, \n",
        "                        figsize=(10, 8),\n",
        "                        color='DarkOrange',\n",
        "                        title='Histogram and CDF of TotalOrders')\n",
        "\n",
        "ax2=gb.sort_values('Total_Orders').plot(x='Total_Orders', \n",
        "                                  y='Fcdf',\n",
        "                                  ax=ax1,\n",
        "                                  secondary_y=True)\n",
        "ax2.set_ylabel('CDF')\n",
        "plt.xlabel('Total_Orders')\n",
        "plt.show()"
      ],
      "execution_count": 8,
      "outputs": [
        {
          "output_type": "display_data",
          "data": {
            "image/png": "[encoded data removed]",
            "text/plain": [
              "<Figure size 720x576 with 2 Axes>"
            ]
          },
          "metadata": {
            "tags": []
          }
        }
      ]
    },
    {
      "cell_type": "markdown",
      "metadata": {
        "id": "PT5gLovTOihN",
        "colab_type": "text"
      },
      "source": [
        "About 95% of the customers placed less than 25 orders. Here, we will split the customers into total orders quantiles as [.5, .75, .95, 1], the corresponding minimum orders for each category is: 1, 3, 6, 14. Company naturally would invest more efforts in serving customer with more orders, i.e. the last category."
      ]
    },
    {
      "cell_type": "code",
      "metadata": {
        "id": "zXc_V3pyPvzg",
        "colab_type": "code",
        "outputId": "533de72f-0cc3-4812-9063-1a3a2dad1a55",
        "colab": {
          "base_uri": "https://localhost:8080/",
          "height": 198
        }
      },
      "source": [
        "gb['FrequencyInd'] = pd.qcut(gb['Total_Orders'], q=[0, 0.5, 0.75, 0.95, 1], labels=[4,3,2,1])\n",
        "gb.groupby('FrequencyInd')['Total_Orders'].describe()"
      ],
      "execution_count": 120,
      "outputs": [
        {
          "output_type": "execute_result",
          "data": {
            "text/html": [
              "<div>\n",
              "<style scoped>\n",
              "    .dataframe tbody tr th:only-of-type {\n",
              "        vertical-align: middle;\n",
              "    }\n",
              "\n",
              "    .dataframe tbody tr th {\n",
              "        vertical-align: top;\n",
              "    }\n",
              "\n",
              "    .dataframe thead th {\n",
              "        text-align: right;\n",
              "    }\n",
              "</style>\n",
              "<table border=\"1\" class=\"dataframe\">\n",
              "  <thead>\n",
              "    <tr style=\"text-align: right;\">\n",
              "      <th></th>\n",
              "      <th>count</th>\n",
              "      <th>mean</th>\n",
              "      <th>std</th>\n",
              "      <th>min</th>\n",
              "      <th>25%</th>\n",
              "      <th>50%</th>\n",
              "      <th>75%</th>\n",
              "      <th>max</th>\n",
              "    </tr>\n",
              "    <tr>\n",
              "      <th>FrequencyInd</th>\n",
              "      <th></th>\n",
              "      <th></th>\n",
              "      <th></th>\n",
              "      <th></th>\n",
              "      <th></th>\n",
              "      <th></th>\n",
              "      <th></th>\n",
              "      <th></th>\n",
              "    </tr>\n",
              "  </thead>\n",
              "  <tbody>\n",
              "    <tr>\n",
              "      <th>4</th>\n",
              "      <td>2329.0</td>\n",
              "      <td>1.358523</td>\n",
              "      <td>0.479670</td>\n",
              "      <td>1.0</td>\n",
              "      <td>1.0</td>\n",
              "      <td>1.0</td>\n",
              "      <td>2.00</td>\n",
              "      <td>2.0</td>\n",
              "    </tr>\n",
              "    <tr>\n",
              "      <th>3</th>\n",
              "      <td>1138.0</td>\n",
              "      <td>3.767135</td>\n",
              "      <td>0.778612</td>\n",
              "      <td>3.0</td>\n",
              "      <td>3.0</td>\n",
              "      <td>4.0</td>\n",
              "      <td>4.00</td>\n",
              "      <td>5.0</td>\n",
              "    </tr>\n",
              "    <tr>\n",
              "      <th>2</th>\n",
              "      <td>662.0</td>\n",
              "      <td>8.264350</td>\n",
              "      <td>2.132785</td>\n",
              "      <td>6.0</td>\n",
              "      <td>6.0</td>\n",
              "      <td>8.0</td>\n",
              "      <td>10.00</td>\n",
              "      <td>13.0</td>\n",
              "    </tr>\n",
              "    <tr>\n",
              "      <th>1</th>\n",
              "      <td>210.0</td>\n",
              "      <td>26.733333</td>\n",
              "      <td>23.637723</td>\n",
              "      <td>14.0</td>\n",
              "      <td>16.0</td>\n",
              "      <td>20.0</td>\n",
              "      <td>27.75</td>\n",
              "      <td>210.0</td>\n",
              "    </tr>\n",
              "  </tbody>\n",
              "</table>\n",
              "</div>"
            ],
            "text/plain": [
              "               count       mean        std   min   25%   50%    75%    max\n",
              "FrequencyInd                                                              \n",
              "4             2329.0   1.358523   0.479670   1.0   1.0   1.0   2.00    2.0\n",
              "3             1138.0   3.767135   0.778612   3.0   3.0   4.0   4.00    5.0\n",
              "2              662.0   8.264350   2.132785   6.0   6.0   8.0  10.00   13.0\n",
              "1              210.0  26.733333  23.637723  14.0  16.0  20.0  27.75  210.0"
            ]
          },
          "metadata": {
            "tags": []
          },
          "execution_count": 120
        }
      ]
    },
    {
      "cell_type": "markdown",
      "metadata": {
        "id": "j957l6XDddd7",
        "colab_type": "text"
      },
      "source": [
        " # create revenue index"
      ]
    },
    {
      "cell_type": "code",
      "metadata": {
        "id": "5r6rZ8fUde9b",
        "colab_type": "code",
        "outputId": "dbc67a60-4564-41e2-8bb3-488caf601160",
        "colab": {
          "base_uri": "https://localhost:8080/",
          "height": 181
        }
      },
      "source": [
        "gb['Total_Revenue'].describe()"
      ],
      "execution_count": 0,
      "outputs": [
        {
          "output_type": "execute_result",
          "data": {
            "text/plain": [
              "count      4339.000000\n",
              "mean       2053.793018\n",
              "std        8988.248381\n",
              "min           0.000000\n",
              "25%         307.245000\n",
              "50%         674.450000\n",
              "75%        1661.640000\n",
              "max      280206.020000\n",
              "Name: Total_Revenue, dtype: float64"
            ]
          },
          "metadata": {
            "tags": []
          },
          "execution_count": 163
        }
      ]
    },
    {
      "cell_type": "code",
      "metadata": {
        "id": "FlXxH5sqSUzJ",
        "colab_type": "code",
        "outputId": "407c0058-0b2b-4918-ea5d-abc8889567d3",
        "colab": {
          "base_uri": "https://localhost:8080/",
          "height": 486
        }
      },
      "source": [
        "gb['Total_Revenue'].plot(kind='box',\n",
        "                         figsize=(10, 8))\n",
        "plt.show()"
      ],
      "execution_count": 0,
      "outputs": [
        {
          "output_type": "display_data",
          "data": {
            "image/png": "[encoded data removed]",
            "text/plain": [
              "<Figure size 720x576 with 1 Axes>"
            ]
          },
          "metadata": {
            "tags": []
          }
        }
      ]
    },
    {
      "cell_type": "markdown",
      "metadata": {
        "id": "jNbgfQdNSifk",
        "colab_type": "text"
      },
      "source": [
        "Let's of outliers. It's highly skewed to the right."
      ]
    },
    {
      "cell_type": "code",
      "metadata": {
        "id": "AF0nHjhdSH0x",
        "colab_type": "code",
        "outputId": "c95e6b5e-a05d-4824-be0b-a030cd7917f4",
        "colab": {
          "base_uri": "https://localhost:8080/",
          "height": 517
        }
      },
      "source": [
        "gb['Revcdf']= gb['Total_Revenue'].rank(method = 'average', pct = True)\n",
        "\n",
        "ax1 =gb['Total_Revenue'].plot.hist(bins=30, \n",
        "                        figsize=(10, 8),\n",
        "                        color='DarkOrange',\n",
        "                        xlim=(0, 50000),\n",
        "                        title='Histogram and CDF of Total_Revenue')\n",
        "\n",
        "ax2=gb.sort_values('Total_Revenue').plot(x='Total_Revenue', \n",
        "                                  y='Revcdf',\n",
        "                                  xlim=(0, 50000),\n",
        "                                  ax=ax1,\n",
        "                                  secondary_y=True)\n",
        "ax2.set_ylabel('CDF')\n",
        "plt.xlabel('Total_Revenue')\n",
        "plt.show()"
      ],
      "execution_count": 10,
      "outputs": [
        {
          "output_type": "display_data",
          "data": {
            "image/png": "[encoded data removed]",
            "text/plain": [
              "<Figure size 720x576 with 2 Axes>"
            ]
          },
          "metadata": {
            "tags": []
          }
        }
      ]
    },
    {
      "cell_type": "code",
      "metadata": {
        "id": "fUjQQ4qqTUZA",
        "colab_type": "code",
        "outputId": "9adc675f-5a84-4ce0-dea8-310a1cc8410e",
        "colab": {
          "base_uri": "https://localhost:8080/",
          "height": 126
        }
      },
      "source": [
        "gb['Total_Revenue'].quantile([0,0.5,0.75, 0.95, 1])"
      ],
      "execution_count": 0,
      "outputs": [
        {
          "output_type": "execute_result",
          "data": {
            "text/plain": [
              "0.00         0.000\n",
              "0.50       674.450\n",
              "0.75      1661.640\n",
              "0.95      5840.182\n",
              "1.00    280206.020\n",
              "Name: Total_Revenue, dtype: float64"
            ]
          },
          "metadata": {
            "tags": []
          },
          "execution_count": 176
        }
      ]
    },
    {
      "cell_type": "markdown",
      "metadata": {
        "id": "IrbSiSxeTosL",
        "colab_type": "text"
      },
      "source": [
        "On average, customers spend 674 dollars. "
      ]
    },
    {
      "cell_type": "code",
      "metadata": {
        "id": "vbDJnk_gTB0d",
        "colab_type": "code",
        "outputId": "01ab3f66-e4bf-4b72-d335-c71301bd9dbc",
        "colab": {
          "base_uri": "https://localhost:8080/",
          "height": 198
        }
      },
      "source": [
        "gb['RevInd'] = pd.qcut(gb['Total_Revenue'], q=[0, 0.5, 0.75, 0.95, 1], labels=[4,3,2,1])\n",
        "gb.groupby('RevInd')['Total_Revenue'].describe()"
      ],
      "execution_count": 118,
      "outputs": [
        {
          "output_type": "execute_result",
          "data": {
            "text/html": [
              "<div>\n",
              "<style scoped>\n",
              "    .dataframe tbody tr th:only-of-type {\n",
              "        vertical-align: middle;\n",
              "    }\n",
              "\n",
              "    .dataframe tbody tr th {\n",
              "        vertical-align: top;\n",
              "    }\n",
              "\n",
              "    .dataframe thead th {\n",
              "        text-align: right;\n",
              "    }\n",
              "</style>\n",
              "<table border=\"1\" class=\"dataframe\">\n",
              "  <thead>\n",
              "    <tr style=\"text-align: right;\">\n",
              "      <th></th>\n",
              "      <th>count</th>\n",
              "      <th>mean</th>\n",
              "      <th>std</th>\n",
              "      <th>min</th>\n",
              "      <th>25%</th>\n",
              "      <th>50%</th>\n",
              "      <th>75%</th>\n",
              "      <th>max</th>\n",
              "    </tr>\n",
              "    <tr>\n",
              "      <th>RevInd</th>\n",
              "      <th></th>\n",
              "      <th></th>\n",
              "      <th></th>\n",
              "      <th></th>\n",
              "      <th></th>\n",
              "      <th></th>\n",
              "      <th></th>\n",
              "      <th></th>\n",
              "    </tr>\n",
              "  </thead>\n",
              "  <tbody>\n",
              "    <tr>\n",
              "      <th>4</th>\n",
              "      <td>2170.0</td>\n",
              "      <td>321.643752</td>\n",
              "      <td>170.577228</td>\n",
              "      <td>0.00</td>\n",
              "      <td>177.1900</td>\n",
              "      <td>307.245</td>\n",
              "      <td>447.6700</td>\n",
              "      <td>674.45</td>\n",
              "    </tr>\n",
              "    <tr>\n",
              "      <th>3</th>\n",
              "      <td>1084.0</td>\n",
              "      <td>1071.859143</td>\n",
              "      <td>282.132341</td>\n",
              "      <td>674.52</td>\n",
              "      <td>820.6475</td>\n",
              "      <td>1031.025</td>\n",
              "      <td>1299.4850</td>\n",
              "      <td>1661.44</td>\n",
              "    </tr>\n",
              "    <tr>\n",
              "      <th>2</th>\n",
              "      <td>868.0</td>\n",
              "      <td>2951.780462</td>\n",
              "      <td>1071.278907</td>\n",
              "      <td>1661.84</td>\n",
              "      <td>2058.8100</td>\n",
              "      <td>2639.055</td>\n",
              "      <td>3646.3475</td>\n",
              "      <td>5836.86</td>\n",
              "    </tr>\n",
              "    <tr>\n",
              "      <th>1</th>\n",
              "      <td>217.0</td>\n",
              "      <td>20688.480230</td>\n",
              "      <td>35073.151824</td>\n",
              "      <td>5870.08</td>\n",
              "      <td>7044.6800</td>\n",
              "      <td>9736.520</td>\n",
              "      <td>16587.0900</td>\n",
              "      <td>280206.02</td>\n",
              "    </tr>\n",
              "  </tbody>\n",
              "</table>\n",
              "</div>"
            ],
            "text/plain": [
              "         count          mean           std  ...       50%         75%        max\n",
              "RevInd                                      ...                                 \n",
              "4       2170.0    321.643752    170.577228  ...   307.245    447.6700     674.45\n",
              "3       1084.0   1071.859143    282.132341  ...  1031.025   1299.4850    1661.44\n",
              "2        868.0   2951.780462   1071.278907  ...  2639.055   3646.3475    5836.86\n",
              "1        217.0  20688.480230  35073.151824  ...  9736.520  16587.0900  280206.02\n",
              "\n",
              "[4 rows x 8 columns]"
            ]
          },
          "metadata": {
            "tags": []
          },
          "execution_count": 118
        }
      ]
    },
    {
      "cell_type": "markdown",
      "metadata": {
        "id": "W2HKL31EUj7N",
        "colab_type": "text"
      },
      "source": [
        "# Composite scores of RFM"
      ]
    },
    {
      "cell_type": "code",
      "metadata": {
        "id": "-E9y_EA-U6to",
        "colab_type": "code",
        "outputId": "03d62be0-9ac6-4b92-db2b-65c78374c7cf",
        "colab": {
          "base_uri": "https://localhost:8080/",
          "height": 35
        }
      },
      "source": [
        "incols = [col for col in gb.columns if 'Ind' in col]\n",
        "incols"
      ],
      "execution_count": 105,
      "outputs": [
        {
          "output_type": "execute_result",
          "data": {
            "text/plain": [
              "['RecencyInd', 'FrequencyInd', 'RevInd']"
            ]
          },
          "metadata": {
            "tags": []
          },
          "execution_count": 105
        }
      ]
    },
    {
      "cell_type": "code",
      "metadata": {
        "id": "hM7_xB1JUn3m",
        "colab_type": "code",
        "outputId": "bfb2c50a-e15f-41ee-fd44-49edb5b00a89",
        "colab": {
          "base_uri": "https://localhost:8080/",
          "height": 198
        }
      },
      "source": [
        "gb['TotalScore'] =  gb.RecencyInd.astype(str)+ gb.FrequencyInd.astype(str) + gb.RevInd.astype(str)\n",
        "temp = gb.groupby(['TotalScore'])['Recency', 'Total_Orders', 'Total_Revenue'].median()\n",
        "temp['Counts'] = gb.groupby('TotalScore').size()\n",
        "temp = temp.reset_index()\n",
        "temp.head()"
      ],
      "execution_count": 134,
      "outputs": [
        {
          "output_type": "execute_result",
          "data": {
            "text/html": [
              "<div>\n",
              "<style scoped>\n",
              "    .dataframe tbody tr th:only-of-type {\n",
              "        vertical-align: middle;\n",
              "    }\n",
              "\n",
              "    .dataframe tbody tr th {\n",
              "        vertical-align: top;\n",
              "    }\n",
              "\n",
              "    .dataframe thead th {\n",
              "        text-align: right;\n",
              "    }\n",
              "</style>\n",
              "<table border=\"1\" class=\"dataframe\">\n",
              "  <thead>\n",
              "    <tr style=\"text-align: right;\">\n",
              "      <th></th>\n",
              "      <th>TotalScore</th>\n",
              "      <th>Recency</th>\n",
              "      <th>Total_Orders</th>\n",
              "      <th>Total_Revenue</th>\n",
              "      <th>Counts</th>\n",
              "    </tr>\n",
              "  </thead>\n",
              "  <tbody>\n",
              "    <tr>\n",
              "      <th>0</th>\n",
              "      <td>111</td>\n",
              "      <td>3.0</td>\n",
              "      <td>25.0</td>\n",
              "      <td>11753.085</td>\n",
              "      <td>116</td>\n",
              "    </tr>\n",
              "    <tr>\n",
              "      <th>1</th>\n",
              "      <td>112</td>\n",
              "      <td>4.0</td>\n",
              "      <td>17.0</td>\n",
              "      <td>4424.610</td>\n",
              "      <td>56</td>\n",
              "    </tr>\n",
              "    <tr>\n",
              "      <th>2</th>\n",
              "      <td>121</td>\n",
              "      <td>10.0</td>\n",
              "      <td>11.0</td>\n",
              "      <td>8703.325</td>\n",
              "      <td>30</td>\n",
              "    </tr>\n",
              "    <tr>\n",
              "      <th>3</th>\n",
              "      <td>122</td>\n",
              "      <td>8.0</td>\n",
              "      <td>8.0</td>\n",
              "      <td>2892.195</td>\n",
              "      <td>254</td>\n",
              "    </tr>\n",
              "    <tr>\n",
              "      <th>4</th>\n",
              "      <td>123</td>\n",
              "      <td>8.0</td>\n",
              "      <td>7.0</td>\n",
              "      <td>1304.760</td>\n",
              "      <td>63</td>\n",
              "    </tr>\n",
              "  </tbody>\n",
              "</table>\n",
              "</div>"
            ],
            "text/plain": [
              "  TotalScore  Recency  Total_Orders  Total_Revenue  Counts\n",
              "0        111      3.0          25.0      11753.085     116\n",
              "1        112      4.0          17.0       4424.610      56\n",
              "2        121     10.0          11.0       8703.325      30\n",
              "3        122      8.0           8.0       2892.195     254\n",
              "4        123      8.0           7.0       1304.760      63"
            ]
          },
          "metadata": {
            "tags": []
          },
          "execution_count": 134
        }
      ]
    },
    {
      "cell_type": "code",
      "metadata": {
        "id": "2zNAyIKushUx",
        "colab_type": "code",
        "colab": {}
      },
      "source": [
        "customer_cat = {'Best Customers': '111', \n",
        "                'High Spending New Customers': ['141', '142'],\n",
        "                'Lowest Spending Active Loyal Customers': ['113', '114'],\n",
        "                'Churned Best Customers': ['411', '412', '421', '422']}\n",
        "\n",
        "def get_key(val): \n",
        "    for key, value in customer_cat.items(): \n",
        "         if val in value: \n",
        "             return key \n",
        "\n",
        "gb['CustomerType'] = gb['TotalScore'].transform(lambda x: get_key(x) if get_key(x) else 'Undefined')"
      ],
      "execution_count": 0,
      "outputs": []
    },
    {
      "cell_type": "markdown",
      "metadata": {
        "id": "fanYrHctx7iL",
        "colab_type": "text"
      },
      "source": [
        "## Best Customers"
      ]
    },
    {
      "cell_type": "code",
      "metadata": {
        "id": "Fg3Cn3npnJCL",
        "colab_type": "code",
        "colab": {
          "base_uri": "https://localhost:8080/",
          "height": 228
        },
        "outputId": "7b5a94a1-cc2a-4d15-ea4b-0a5778a2b44e"
      },
      "source": [
        "gb[gb['CustomerType']==list(customer_cat.keys())[0]].sort_values(by='Total_Revenue', ascending=False).head()"
      ],
      "execution_count": 145,
      "outputs": [
        {
          "output_type": "execute_result",
          "data": {
            "text/html": [
              "<div>\n",
              "<style scoped>\n",
              "    .dataframe tbody tr th:only-of-type {\n",
              "        vertical-align: middle;\n",
              "    }\n",
              "\n",
              "    .dataframe tbody tr th {\n",
              "        vertical-align: top;\n",
              "    }\n",
              "\n",
              "    .dataframe thead th {\n",
              "        text-align: right;\n",
              "    }\n",
              "</style>\n",
              "<table border=\"1\" class=\"dataframe\">\n",
              "  <thead>\n",
              "    <tr style=\"text-align: right;\">\n",
              "      <th></th>\n",
              "      <th>Last_Order_Date</th>\n",
              "      <th>Total_Orders</th>\n",
              "      <th>Total_Revenue</th>\n",
              "      <th>Recency</th>\n",
              "      <th>Rcdf</th>\n",
              "      <th>RecencyInd</th>\n",
              "      <th>Fcdf</th>\n",
              "      <th>FrequencyInd</th>\n",
              "      <th>Revcdf</th>\n",
              "      <th>RevInd</th>\n",
              "      <th>TotalScore</th>\n",
              "      <th>CustomerType</th>\n",
              "    </tr>\n",
              "    <tr>\n",
              "      <th>CustomerID</th>\n",
              "      <th></th>\n",
              "      <th></th>\n",
              "      <th></th>\n",
              "      <th></th>\n",
              "      <th></th>\n",
              "      <th></th>\n",
              "      <th></th>\n",
              "      <th></th>\n",
              "      <th></th>\n",
              "      <th></th>\n",
              "      <th></th>\n",
              "      <th></th>\n",
              "    </tr>\n",
              "  </thead>\n",
              "  <tbody>\n",
              "    <tr>\n",
              "      <th>14646.0</th>\n",
              "      <td>2011-12-08 12:12:00</td>\n",
              "      <td>74</td>\n",
              "      <td>280206.02</td>\n",
              "      <td>1</td>\n",
              "      <td>0.020051</td>\n",
              "      <td>1</td>\n",
              "      <td>0.998387</td>\n",
              "      <td>1</td>\n",
              "      <td>1.000000</td>\n",
              "      <td>1</td>\n",
              "      <td>111</td>\n",
              "      <td>Best Customers</td>\n",
              "    </tr>\n",
              "    <tr>\n",
              "      <th>18102.0</th>\n",
              "      <td>2011-12-09 11:50:00</td>\n",
              "      <td>60</td>\n",
              "      <td>259657.30</td>\n",
              "      <td>0</td>\n",
              "      <td>0.004148</td>\n",
              "      <td>1</td>\n",
              "      <td>0.997695</td>\n",
              "      <td>1</td>\n",
              "      <td>0.999770</td>\n",
              "      <td>1</td>\n",
              "      <td>111</td>\n",
              "      <td>Best Customers</td>\n",
              "    </tr>\n",
              "    <tr>\n",
              "      <th>17450.0</th>\n",
              "      <td>2011-12-01 13:29:00</td>\n",
              "      <td>46</td>\n",
              "      <td>194550.79</td>\n",
              "      <td>8</td>\n",
              "      <td>0.132749</td>\n",
              "      <td>1</td>\n",
              "      <td>0.995621</td>\n",
              "      <td>1</td>\n",
              "      <td>0.999539</td>\n",
              "      <td>1</td>\n",
              "      <td>111</td>\n",
              "      <td>Best Customers</td>\n",
              "    </tr>\n",
              "    <tr>\n",
              "      <th>14911.0</th>\n",
              "      <td>2011-12-08 15:54:00</td>\n",
              "      <td>201</td>\n",
              "      <td>143825.06</td>\n",
              "      <td>1</td>\n",
              "      <td>0.020051</td>\n",
              "      <td>1</td>\n",
              "      <td>0.999770</td>\n",
              "      <td>1</td>\n",
              "      <td>0.999078</td>\n",
              "      <td>1</td>\n",
              "      <td>111</td>\n",
              "      <td>Best Customers</td>\n",
              "    </tr>\n",
              "    <tr>\n",
              "      <th>14156.0</th>\n",
              "      <td>2011-11-30 10:54:00</td>\n",
              "      <td>55</td>\n",
              "      <td>117379.63</td>\n",
              "      <td>9</td>\n",
              "      <td>0.150035</td>\n",
              "      <td>1</td>\n",
              "      <td>0.997119</td>\n",
              "      <td>1</td>\n",
              "      <td>0.998617</td>\n",
              "      <td>1</td>\n",
              "      <td>111</td>\n",
              "      <td>Best Customers</td>\n",
              "    </tr>\n",
              "  </tbody>\n",
              "</table>\n",
              "</div>"
            ],
            "text/plain": [
              "               Last_Order_Date  Total_Orders  ...  TotalScore    CustomerType\n",
              "CustomerID                                    ...                            \n",
              "14646.0    2011-12-08 12:12:00            74  ...         111  Best Customers\n",
              "18102.0    2011-12-09 11:50:00            60  ...         111  Best Customers\n",
              "17450.0    2011-12-01 13:29:00            46  ...         111  Best Customers\n",
              "14911.0    2011-12-08 15:54:00           201  ...         111  Best Customers\n",
              "14156.0    2011-11-30 10:54:00            55  ...         111  Best Customers\n",
              "\n",
              "[5 rows x 12 columns]"
            ]
          },
          "metadata": {
            "tags": []
          },
          "execution_count": 145
        }
      ]
    },
    {
      "cell_type": "markdown",
      "metadata": {
        "id": "gsbRz_veyCDM",
        "colab_type": "text"
      },
      "source": [
        "## High Spending New Customers\n"
      ]
    },
    {
      "cell_type": "code",
      "metadata": {
        "id": "23Qpyt3Yx9pS",
        "colab_type": "code",
        "colab": {
          "base_uri": "https://localhost:8080/",
          "height": 228
        },
        "outputId": "d2ee0490-d809-404c-e942-3f08af4a3801"
      },
      "source": [
        "gb[gb['CustomerType']==list(customer_cat.keys())[1]].sort_values(by='Total_Revenue', ascending=False).head()"
      ],
      "execution_count": 146,
      "outputs": [
        {
          "output_type": "execute_result",
          "data": {
            "text/html": [
              "<div>\n",
              "<style scoped>\n",
              "    .dataframe tbody tr th:only-of-type {\n",
              "        vertical-align: middle;\n",
              "    }\n",
              "\n",
              "    .dataframe tbody tr th {\n",
              "        vertical-align: top;\n",
              "    }\n",
              "\n",
              "    .dataframe thead th {\n",
              "        text-align: right;\n",
              "    }\n",
              "</style>\n",
              "<table border=\"1\" class=\"dataframe\">\n",
              "  <thead>\n",
              "    <tr style=\"text-align: right;\">\n",
              "      <th></th>\n",
              "      <th>Last_Order_Date</th>\n",
              "      <th>Total_Orders</th>\n",
              "      <th>Total_Revenue</th>\n",
              "      <th>Recency</th>\n",
              "      <th>Rcdf</th>\n",
              "      <th>RecencyInd</th>\n",
              "      <th>Fcdf</th>\n",
              "      <th>FrequencyInd</th>\n",
              "      <th>Revcdf</th>\n",
              "      <th>RevInd</th>\n",
              "      <th>TotalScore</th>\n",
              "      <th>CustomerType</th>\n",
              "    </tr>\n",
              "    <tr>\n",
              "      <th>CustomerID</th>\n",
              "      <th></th>\n",
              "      <th></th>\n",
              "      <th></th>\n",
              "      <th></th>\n",
              "      <th></th>\n",
              "      <th></th>\n",
              "      <th></th>\n",
              "      <th></th>\n",
              "      <th></th>\n",
              "      <th></th>\n",
              "      <th></th>\n",
              "      <th></th>\n",
              "    </tr>\n",
              "  </thead>\n",
              "  <tbody>\n",
              "    <tr>\n",
              "      <th>16446.0</th>\n",
              "      <td>2011-12-09 09:15:00</td>\n",
              "      <td>2</td>\n",
              "      <td>168472.50</td>\n",
              "      <td>0</td>\n",
              "      <td>0.004148</td>\n",
              "      <td>1</td>\n",
              "      <td>0.440655</td>\n",
              "      <td>4</td>\n",
              "      <td>0.999309</td>\n",
              "      <td>1</td>\n",
              "      <td>141</td>\n",
              "      <td>High Spending New Customers</td>\n",
              "    </tr>\n",
              "    <tr>\n",
              "      <th>15195.0</th>\n",
              "      <td>2011-12-07 12:20:00</td>\n",
              "      <td>1</td>\n",
              "      <td>3861.00</td>\n",
              "      <td>2</td>\n",
              "      <td>0.042291</td>\n",
              "      <td>1</td>\n",
              "      <td>0.172275</td>\n",
              "      <td>4</td>\n",
              "      <td>0.909657</td>\n",
              "      <td>2</td>\n",
              "      <td>142</td>\n",
              "      <td>High Spending New Customers</td>\n",
              "    </tr>\n",
              "    <tr>\n",
              "      <th>13868.0</th>\n",
              "      <td>2011-12-02 16:32:00</td>\n",
              "      <td>2</td>\n",
              "      <td>3192.54</td>\n",
              "      <td>7</td>\n",
              "      <td>0.115349</td>\n",
              "      <td>1</td>\n",
              "      <td>0.440655</td>\n",
              "      <td>4</td>\n",
              "      <td>0.882000</td>\n",
              "      <td>2</td>\n",
              "      <td>142</td>\n",
              "      <td>High Spending New Customers</td>\n",
              "    </tr>\n",
              "    <tr>\n",
              "      <th>12438.0</th>\n",
              "      <td>2011-11-25 13:28:00</td>\n",
              "      <td>2</td>\n",
              "      <td>2906.85</td>\n",
              "      <td>14</td>\n",
              "      <td>0.204886</td>\n",
              "      <td>1</td>\n",
              "      <td>0.440655</td>\n",
              "      <td>4</td>\n",
              "      <td>0.867251</td>\n",
              "      <td>2</td>\n",
              "      <td>142</td>\n",
              "      <td>High Spending New Customers</td>\n",
              "    </tr>\n",
              "    <tr>\n",
              "      <th>15123.0</th>\n",
              "      <td>2011-12-02 13:12:00</td>\n",
              "      <td>2</td>\n",
              "      <td>2199.31</td>\n",
              "      <td>7</td>\n",
              "      <td>0.115349</td>\n",
              "      <td>1</td>\n",
              "      <td>0.440655</td>\n",
              "      <td>4</td>\n",
              "      <td>0.813091</td>\n",
              "      <td>2</td>\n",
              "      <td>142</td>\n",
              "      <td>High Spending New Customers</td>\n",
              "    </tr>\n",
              "  </tbody>\n",
              "</table>\n",
              "</div>"
            ],
            "text/plain": [
              "               Last_Order_Date  ...                 CustomerType\n",
              "CustomerID                      ...                             \n",
              "16446.0    2011-12-09 09:15:00  ...  High Spending New Customers\n",
              "15195.0    2011-12-07 12:20:00  ...  High Spending New Customers\n",
              "13868.0    2011-12-02 16:32:00  ...  High Spending New Customers\n",
              "12438.0    2011-11-25 13:28:00  ...  High Spending New Customers\n",
              "15123.0    2011-12-02 13:12:00  ...  High Spending New Customers\n",
              "\n",
              "[5 rows x 12 columns]"
            ]
          },
          "metadata": {
            "tags": []
          },
          "execution_count": 146
        }
      ]
    },
    {
      "cell_type": "markdown",
      "metadata": {
        "id": "8TWwF5CUyInf",
        "colab_type": "text"
      },
      "source": [
        "## Lowest Spending Active Loyal Customers"
      ]
    },
    {
      "cell_type": "code",
      "metadata": {
        "id": "cyA5hRSNyJF_",
        "colab_type": "code",
        "colab": {
          "base_uri": "https://localhost:8080/",
          "height": 78
        },
        "outputId": "54c95142-89ef-4d0b-8857-bf6880852627"
      },
      "source": [
        "gb[gb['CustomerType']==list(customer_cat.keys())[2]].sort_values(by='Total_Revenue', ascending=False).head()"
      ],
      "execution_count": 147,
      "outputs": [
        {
          "output_type": "execute_result",
          "data": {
            "text/html": [
              "<div>\n",
              "<style scoped>\n",
              "    .dataframe tbody tr th:only-of-type {\n",
              "        vertical-align: middle;\n",
              "    }\n",
              "\n",
              "    .dataframe tbody tr th {\n",
              "        vertical-align: top;\n",
              "    }\n",
              "\n",
              "    .dataframe thead th {\n",
              "        text-align: right;\n",
              "    }\n",
              "</style>\n",
              "<table border=\"1\" class=\"dataframe\">\n",
              "  <thead>\n",
              "    <tr style=\"text-align: right;\">\n",
              "      <th></th>\n",
              "      <th>Last_Order_Date</th>\n",
              "      <th>Total_Orders</th>\n",
              "      <th>Total_Revenue</th>\n",
              "      <th>Recency</th>\n",
              "      <th>Rcdf</th>\n",
              "      <th>RecencyInd</th>\n",
              "      <th>Fcdf</th>\n",
              "      <th>FrequencyInd</th>\n",
              "      <th>Revcdf</th>\n",
              "      <th>RevInd</th>\n",
              "      <th>TotalScore</th>\n",
              "      <th>CustomerType</th>\n",
              "    </tr>\n",
              "    <tr>\n",
              "      <th>CustomerID</th>\n",
              "      <th></th>\n",
              "      <th></th>\n",
              "      <th></th>\n",
              "      <th></th>\n",
              "      <th></th>\n",
              "      <th></th>\n",
              "      <th></th>\n",
              "      <th></th>\n",
              "      <th></th>\n",
              "      <th></th>\n",
              "      <th></th>\n",
              "      <th></th>\n",
              "    </tr>\n",
              "  </thead>\n",
              "  <tbody>\n",
              "  </tbody>\n",
              "</table>\n",
              "</div>"
            ],
            "text/plain": [
              "Empty DataFrame\n",
              "Columns: [Last_Order_Date, Total_Orders, Total_Revenue, Recency, Rcdf, RecencyInd, Fcdf, FrequencyInd, Revcdf, RevInd, TotalScore, CustomerType]\n",
              "Index: []"
            ]
          },
          "metadata": {
            "tags": []
          },
          "execution_count": 147
        }
      ]
    },
    {
      "cell_type": "markdown",
      "metadata": {
        "id": "ezw_9EBW2Vme",
        "colab_type": "text"
      },
      "source": [
        "This category doesn't exist in this dataset."
      ]
    },
    {
      "cell_type": "markdown",
      "metadata": {
        "id": "8ul7DicCy8H8",
        "colab_type": "text"
      },
      "source": [
        "## Churned Best Customers"
      ]
    },
    {
      "cell_type": "code",
      "metadata": {
        "id": "V5RORjsKyScU",
        "colab_type": "code",
        "colab": {
          "base_uri": "https://localhost:8080/",
          "height": 228
        },
        "outputId": "a720ff66-e578-475e-84bd-de6d0c6c3541"
      },
      "source": [
        "gb[gb['CustomerType']==list(customer_cat.keys())[3]].sort_values(by='Total_Revenue', ascending=True).head()"
      ],
      "execution_count": 151,
      "outputs": [
        {
          "output_type": "execute_result",
          "data": {
            "text/html": [
              "<div>\n",
              "<style scoped>\n",
              "    .dataframe tbody tr th:only-of-type {\n",
              "        vertical-align: middle;\n",
              "    }\n",
              "\n",
              "    .dataframe tbody tr th {\n",
              "        vertical-align: top;\n",
              "    }\n",
              "\n",
              "    .dataframe thead th {\n",
              "        text-align: right;\n",
              "    }\n",
              "</style>\n",
              "<table border=\"1\" class=\"dataframe\">\n",
              "  <thead>\n",
              "    <tr style=\"text-align: right;\">\n",
              "      <th></th>\n",
              "      <th>Last_Order_Date</th>\n",
              "      <th>Total_Orders</th>\n",
              "      <th>Total_Revenue</th>\n",
              "      <th>Recency</th>\n",
              "      <th>Rcdf</th>\n",
              "      <th>RecencyInd</th>\n",
              "      <th>Fcdf</th>\n",
              "      <th>FrequencyInd</th>\n",
              "      <th>Revcdf</th>\n",
              "      <th>RevInd</th>\n",
              "      <th>TotalScore</th>\n",
              "      <th>CustomerType</th>\n",
              "    </tr>\n",
              "    <tr>\n",
              "      <th>CustomerID</th>\n",
              "      <th></th>\n",
              "      <th></th>\n",
              "      <th></th>\n",
              "      <th></th>\n",
              "      <th></th>\n",
              "      <th></th>\n",
              "      <th></th>\n",
              "      <th></th>\n",
              "      <th></th>\n",
              "      <th></th>\n",
              "      <th></th>\n",
              "      <th></th>\n",
              "    </tr>\n",
              "  </thead>\n",
              "  <tbody>\n",
              "    <tr>\n",
              "      <th>15235.0</th>\n",
              "      <td>2011-05-06 09:44:00</td>\n",
              "      <td>12</td>\n",
              "      <td>2247.51</td>\n",
              "      <td>217</td>\n",
              "      <td>0.848352</td>\n",
              "      <td>4</td>\n",
              "      <td>0.939617</td>\n",
              "      <td>2</td>\n",
              "      <td>0.818622</td>\n",
              "      <td>2</td>\n",
              "      <td>422</td>\n",
              "      <td>Churned Best Customers</td>\n",
              "    </tr>\n",
              "    <tr>\n",
              "      <th>16919.0</th>\n",
              "      <td>2011-07-06 13:35:00</td>\n",
              "      <td>11</td>\n",
              "      <td>2596.45</td>\n",
              "      <td>156</td>\n",
              "      <td>0.768495</td>\n",
              "      <td>4</td>\n",
              "      <td>0.928440</td>\n",
              "      <td>2</td>\n",
              "      <td>0.844204</td>\n",
              "      <td>2</td>\n",
              "      <td>422</td>\n",
              "      <td>Churned Best Customers</td>\n",
              "    </tr>\n",
              "    <tr>\n",
              "      <th>18260.0</th>\n",
              "      <td>2011-06-20 12:37:00</td>\n",
              "      <td>6</td>\n",
              "      <td>2643.20</td>\n",
              "      <td>172</td>\n",
              "      <td>0.789929</td>\n",
              "      <td>4</td>\n",
              "      <td>0.818968</td>\n",
              "      <td>2</td>\n",
              "      <td>0.850426</td>\n",
              "      <td>2</td>\n",
              "      <td>422</td>\n",
              "      <td>Churned Best Customers</td>\n",
              "    </tr>\n",
              "    <tr>\n",
              "      <th>17504.0</th>\n",
              "      <td>2011-05-17 12:59:00</td>\n",
              "      <td>9</td>\n",
              "      <td>2997.03</td>\n",
              "      <td>206</td>\n",
              "      <td>0.835676</td>\n",
              "      <td>4</td>\n",
              "      <td>0.902166</td>\n",
              "      <td>2</td>\n",
              "      <td>0.871629</td>\n",
              "      <td>2</td>\n",
              "      <td>422</td>\n",
              "      <td>Churned Best Customers</td>\n",
              "    </tr>\n",
              "    <tr>\n",
              "      <th>17230.0</th>\n",
              "      <td>2011-03-20 16:12:00</td>\n",
              "      <td>8</td>\n",
              "      <td>3638.41</td>\n",
              "      <td>264</td>\n",
              "      <td>0.902858</td>\n",
              "      <td>4</td>\n",
              "      <td>0.883038</td>\n",
              "      <td>2</td>\n",
              "      <td>0.898825</td>\n",
              "      <td>2</td>\n",
              "      <td>422</td>\n",
              "      <td>Churned Best Customers</td>\n",
              "    </tr>\n",
              "  </tbody>\n",
              "</table>\n",
              "</div>"
            ],
            "text/plain": [
              "               Last_Order_Date  Total_Orders  ...  TotalScore            CustomerType\n",
              "CustomerID                                    ...                                    \n",
              "15235.0    2011-05-06 09:44:00            12  ...         422  Churned Best Customers\n",
              "16919.0    2011-07-06 13:35:00            11  ...         422  Churned Best Customers\n",
              "18260.0    2011-06-20 12:37:00             6  ...         422  Churned Best Customers\n",
              "17504.0    2011-05-17 12:59:00             9  ...         422  Churned Best Customers\n",
              "17230.0    2011-03-20 16:12:00             8  ...         422  Churned Best Customers\n",
              "\n",
              "[5 rows x 12 columns]"
            ]
          },
          "metadata": {
            "tags": []
          },
          "execution_count": 151
        }
      ]
    },
    {
      "cell_type": "markdown",
      "metadata": {
        "id": "qW6zXgfTzMxA",
        "colab_type": "text"
      },
      "source": [
        "Conclusion:\n",
        "\n",
        "Here we only segment the customers into four groups. In reality, we should have drilled down to more classes for different marketing strategy. One of the segment standards from RFM scores will be [this](https://www.putler.com/rfm-analysis/#11segments), who has defined 9 categories, and detailed followed up action. Lots of RFM methods require to firstly categorize each RFM metric and then combine them into a single 'score'. Majority of the categorization methods are using equal quantitle. In my method, I use unequal quantile to give a label to the 'high spending' or 'most orders' customers. As the Pareto principle suggests, majority of the revenue come from 20% (or even less in video game, online retail, etc. industry) customers. The extreme high spending/total orders customers might often appear to be outliers in our dataset, but they might turn out to be the key revenue contributer. So giving a lable for such small group can highlight their importance in customer engagement."
      ]
    }
  ]
}
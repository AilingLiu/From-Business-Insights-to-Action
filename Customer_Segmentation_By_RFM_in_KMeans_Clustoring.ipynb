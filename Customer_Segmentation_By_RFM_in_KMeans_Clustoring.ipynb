{
  "nbformat": 4,
  "nbformat_minor": 0,
  "metadata": {
    "colab": {
      "name": "Customer_Segmentation_By_RFM_in_KMeans_Clustoring.ipynb",
      "provenance": [],
      "authorship_tag": "ABX9TyNrXnHKVpOrLupLGcCYfbFQ",
      "include_colab_link": true
    },
    "kernelspec": {
      "name": "python3",
      "display_name": "Python 3"
    }
  },
  "cells": [
    {
      "cell_type": "markdown",
      "metadata": {
        "id": "view-in-github",
        "colab_type": "text"
      },
      "source": [
        "<a href=\"https://colab.research.google.com/github/AilingLiu/From-Business-Insights-to-Action/blob/master/Customer_Segmentation_By_RFM_in_KMeans_Clustoring.ipynb\" target=\"_parent\"><img src=\"https://colab.research.google.com/assets/colab-badge.svg\" alt=\"Open In Colab\"/></a>"
      ]
    },
    {
      "cell_type": "markdown",
      "metadata": {
        "id": "L8m7wXtY6RQv",
        "colab_type": "text"
      },
      "source": [
        "Use Clustering Methods to segment customer groups, by first indexing RFM, then using K Means Clustering."
      ]
    },
    {
      "cell_type": "code",
      "metadata": {
        "id": "u9XuypwhZ_9Y",
        "colab_type": "code",
        "colab": {}
      },
      "source": [
        "import pandas as pd\n",
        "import numpy as np\n",
        "import matplotlib.pyplot as plt\n",
        "import matplotlib as mpl\n",
        "mpl.rc('xtick', labelsize=12)\n",
        "mpl.rc('ytick', labelsize=12)\n",
        "import seaborn as sns"
      ],
      "execution_count": 0,
      "outputs": []
    },
    {
      "cell_type": "markdown",
      "metadata": {
        "colab_type": "text",
        "id": "CfuQDWAp6C0A"
      },
      "source": [
        "# Get the data"
      ]
    },
    {
      "cell_type": "code",
      "metadata": {
        "colab_type": "code",
        "outputId": "d6b6fc84-3b4e-4b3d-9ddc-05c1f5a84f76",
        "id": "Er-EJkdO5_t6",
        "colab": {
          "base_uri": "https://localhost:8080/",
          "height": 198
        }
      },
      "source": [
        "url = 'https://github.com/AilingLiu/Growth_Analysis/blob/master/Data/online_retail.csv?raw=true'\n",
        "\n",
        "data = pd.read_csv(url, sep=',', parse_dates=['InvoiceDate'], encoding='latin-1')\n",
        "data.head()"
      ],
      "execution_count": 5,
      "outputs": [
        {
          "output_type": "execute_result",
          "data": {
            "text/html": [
              "<div>\n",
              "<style scoped>\n",
              "    .dataframe tbody tr th:only-of-type {\n",
              "        vertical-align: middle;\n",
              "    }\n",
              "\n",
              "    .dataframe tbody tr th {\n",
              "        vertical-align: top;\n",
              "    }\n",
              "\n",
              "    .dataframe thead th {\n",
              "        text-align: right;\n",
              "    }\n",
              "</style>\n",
              "<table border=\"1\" class=\"dataframe\">\n",
              "  <thead>\n",
              "    <tr style=\"text-align: right;\">\n",
              "      <th></th>\n",
              "      <th>InvoiceNo</th>\n",
              "      <th>StockCode</th>\n",
              "      <th>Description</th>\n",
              "      <th>Quantity</th>\n",
              "      <th>InvoiceDate</th>\n",
              "      <th>UnitPrice</th>\n",
              "      <th>CustomerID</th>\n",
              "      <th>Country</th>\n",
              "    </tr>\n",
              "  </thead>\n",
              "  <tbody>\n",
              "    <tr>\n",
              "      <th>0</th>\n",
              "      <td>536365</td>\n",
              "      <td>85123A</td>\n",
              "      <td>WHITE HANGING HEART T-LIGHT HOLDER</td>\n",
              "      <td>6</td>\n",
              "      <td>2010-12-01 08:26:00</td>\n",
              "      <td>2.55</td>\n",
              "      <td>17850.0</td>\n",
              "      <td>United Kingdom</td>\n",
              "    </tr>\n",
              "    <tr>\n",
              "      <th>1</th>\n",
              "      <td>536365</td>\n",
              "      <td>71053</td>\n",
              "      <td>WHITE METAL LANTERN</td>\n",
              "      <td>6</td>\n",
              "      <td>2010-12-01 08:26:00</td>\n",
              "      <td>3.39</td>\n",
              "      <td>17850.0</td>\n",
              "      <td>United Kingdom</td>\n",
              "    </tr>\n",
              "    <tr>\n",
              "      <th>2</th>\n",
              "      <td>536365</td>\n",
              "      <td>84406B</td>\n",
              "      <td>CREAM CUPID HEARTS COAT HANGER</td>\n",
              "      <td>8</td>\n",
              "      <td>2010-12-01 08:26:00</td>\n",
              "      <td>2.75</td>\n",
              "      <td>17850.0</td>\n",
              "      <td>United Kingdom</td>\n",
              "    </tr>\n",
              "    <tr>\n",
              "      <th>3</th>\n",
              "      <td>536365</td>\n",
              "      <td>84029G</td>\n",
              "      <td>KNITTED UNION FLAG HOT WATER BOTTLE</td>\n",
              "      <td>6</td>\n",
              "      <td>2010-12-01 08:26:00</td>\n",
              "      <td>3.39</td>\n",
              "      <td>17850.0</td>\n",
              "      <td>United Kingdom</td>\n",
              "    </tr>\n",
              "    <tr>\n",
              "      <th>4</th>\n",
              "      <td>536365</td>\n",
              "      <td>84029E</td>\n",
              "      <td>RED WOOLLY HOTTIE WHITE HEART.</td>\n",
              "      <td>6</td>\n",
              "      <td>2010-12-01 08:26:00</td>\n",
              "      <td>3.39</td>\n",
              "      <td>17850.0</td>\n",
              "      <td>United Kingdom</td>\n",
              "    </tr>\n",
              "  </tbody>\n",
              "</table>\n",
              "</div>"
            ],
            "text/plain": [
              "  InvoiceNo StockCode  ... CustomerID         Country\n",
              "0    536365    85123A  ...    17850.0  United Kingdom\n",
              "1    536365     71053  ...    17850.0  United Kingdom\n",
              "2    536365    84406B  ...    17850.0  United Kingdom\n",
              "3    536365    84029G  ...    17850.0  United Kingdom\n",
              "4    536365    84029E  ...    17850.0  United Kingdom\n",
              "\n",
              "[5 rows x 8 columns]"
            ]
          },
          "metadata": {
            "tags": []
          },
          "execution_count": 5
        }
      ]
    },
    {
      "cell_type": "markdown",
      "metadata": {
        "id": "j_Ed9_W4dFUm",
        "colab_type": "text"
      },
      "source": [
        "# Clean up data"
      ]
    },
    {
      "cell_type": "code",
      "metadata": {
        "id": "sdQCjlBidGvr",
        "colab_type": "code",
        "colab": {
          "base_uri": "https://localhost:8080/",
          "height": 254
        },
        "outputId": "4fe1c605-6997-4c30-bc1c-8b76b24a29dc"
      },
      "source": [
        "# clean up the negative quantity and unit price\n",
        "df = data.loc[(data['Quantity'] >=0)&(data['UnitPrice']>=0), :]\n",
        "\n",
        "# clean up rows where customerid is unknown\n",
        "mask =df['CustomerID'].isnull() \n",
        "df = df.loc[~mask, :]\n",
        "\n",
        "# get only the uk data\n",
        "df = df[df['Country']=='United Kingdom']\n",
        "\n",
        "df.info()"
      ],
      "execution_count": 46,
      "outputs": [
        {
          "output_type": "stream",
          "text": [
            "<class 'pandas.core.frame.DataFrame'>\n",
            "Int64Index: 354345 entries, 0 to 541893\n",
            "Data columns (total 8 columns):\n",
            "InvoiceNo      354345 non-null object\n",
            "StockCode      354345 non-null object\n",
            "Description    354345 non-null object\n",
            "Quantity       354345 non-null int64\n",
            "InvoiceDate    354345 non-null datetime64[ns]\n",
            "UnitPrice      354345 non-null float64\n",
            "CustomerID     354345 non-null float64\n",
            "Country        354345 non-null object\n",
            "dtypes: datetime64[ns](1), float64(2), int64(1), object(4)\n",
            "memory usage: 24.3+ MB\n"
          ],
          "name": "stdout"
        }
      ]
    },
    {
      "cell_type": "markdown",
      "metadata": {
        "id": "PjQBdph3NSxE",
        "colab_type": "text"
      },
      "source": [
        "## Grouping based on RFM"
      ]
    },
    {
      "cell_type": "code",
      "metadata": {
        "id": "nYxeFysuGMio",
        "colab_type": "code",
        "outputId": "d5d210de-ca84-4ab7-8f81-3b153bc4551f",
        "colab": {
          "base_uri": "https://localhost:8080/",
          "height": 228
        }
      },
      "source": [
        "df['TotalPrice'] = df['UnitPrice'] * df['Quantity']\n",
        "\n",
        "gb=df.groupby(['CustomerID']).agg(\n",
        "    Last_Order_Date=('InvoiceDate', 'max'),\n",
        "    Total_Orders=('InvoiceNo', 'nunique'),\n",
        "    Total_Revenue=('TotalPrice', 'sum'))\n",
        "\n",
        "m = gb['Last_Order_Date'].max().normalize()\n",
        "\n",
        "diff = lambda x: (m-x.normalize()).days\n",
        "gb['Recency'] = gb['Last_Order_Date'].transform(diff)\n",
        "#gb['Total_Revenue(k)'] = (gb['Total_Revenue']/1000).round(2) \n",
        "#gb = gb.drop(columns=['Last_Order_Date', 'Total_Revenue'])\n",
        "gb = gb.drop(columns=['Last_Order_Date'])\n",
        "\n",
        "gb.head()"
      ],
      "execution_count": 106,
      "outputs": [
        {
          "output_type": "execute_result",
          "data": {
            "text/html": [
              "<div>\n",
              "<style scoped>\n",
              "    .dataframe tbody tr th:only-of-type {\n",
              "        vertical-align: middle;\n",
              "    }\n",
              "\n",
              "    .dataframe tbody tr th {\n",
              "        vertical-align: top;\n",
              "    }\n",
              "\n",
              "    .dataframe thead th {\n",
              "        text-align: right;\n",
              "    }\n",
              "</style>\n",
              "<table border=\"1\" class=\"dataframe\">\n",
              "  <thead>\n",
              "    <tr style=\"text-align: right;\">\n",
              "      <th></th>\n",
              "      <th>Total_Orders</th>\n",
              "      <th>Total_Revenue</th>\n",
              "      <th>Recency</th>\n",
              "    </tr>\n",
              "    <tr>\n",
              "      <th>CustomerID</th>\n",
              "      <th></th>\n",
              "      <th></th>\n",
              "      <th></th>\n",
              "    </tr>\n",
              "  </thead>\n",
              "  <tbody>\n",
              "    <tr>\n",
              "      <th>12346.0</th>\n",
              "      <td>1</td>\n",
              "      <td>77183.60</td>\n",
              "      <td>325</td>\n",
              "    </tr>\n",
              "    <tr>\n",
              "      <th>12747.0</th>\n",
              "      <td>11</td>\n",
              "      <td>4196.01</td>\n",
              "      <td>2</td>\n",
              "    </tr>\n",
              "    <tr>\n",
              "      <th>12748.0</th>\n",
              "      <td>210</td>\n",
              "      <td>33719.73</td>\n",
              "      <td>0</td>\n",
              "    </tr>\n",
              "    <tr>\n",
              "      <th>12749.0</th>\n",
              "      <td>5</td>\n",
              "      <td>4090.88</td>\n",
              "      <td>3</td>\n",
              "    </tr>\n",
              "    <tr>\n",
              "      <th>12820.0</th>\n",
              "      <td>4</td>\n",
              "      <td>942.34</td>\n",
              "      <td>3</td>\n",
              "    </tr>\n",
              "  </tbody>\n",
              "</table>\n",
              "</div>"
            ],
            "text/plain": [
              "            Total_Orders  Total_Revenue  Recency\n",
              "CustomerID                                      \n",
              "12346.0                1       77183.60      325\n",
              "12747.0               11        4196.01        2\n",
              "12748.0              210       33719.73        0\n",
              "12749.0                5        4090.88        3\n",
              "12820.0                4         942.34        3"
            ]
          },
          "metadata": {
            "tags": []
          },
          "execution_count": 106
        }
      ]
    },
    {
      "cell_type": "markdown",
      "metadata": {
        "id": "lkNwAfFSQz9O",
        "colab_type": "text"
      },
      "source": [
        "# K Means Clustering (Total revenue)"
      ]
    },
    {
      "cell_type": "code",
      "metadata": {
        "id": "6UF3W-lrQ3Hm",
        "colab_type": "code",
        "colab": {
          "base_uri": "https://localhost:8080/",
          "height": 404
        },
        "outputId": "cd4943eb-f4a4-4d5f-f523-7b7d9bd1a10f"
      },
      "source": [
        "from sklearn.cluster import KMeans\n",
        "\n",
        "revenue = gb[['Total_Revenue']]\n",
        "kmeans_per_k = [KMeans(n_clusters=k, random_state=42).fit(revenue) for k in range(1, 10)]\n",
        "inertias = [model.inertia_ for model in kmeans_per_k]\n",
        "\n",
        "plt.figure(figsize=(8, 6))\n",
        "plt.plot(range(1, 10), inertias, 'bo-', linewidth=2)\n",
        "plt.xlabel('cluster K')\n",
        "plt.ylabel('inertia');\n",
        "#plt.axis([1, 8, 0, 55])"
      ],
      "execution_count": 108,
      "outputs": [
        {
          "output_type": "display_data",
          "data": {
            "image/png": "[encoded data removed]",
            "text/plain": [
              "<Figure size 576x432 with 1 Axes>"
            ]
          },
          "metadata": {
            "tags": []
          }
        }
      ]
    },
    {
      "cell_type": "code",
      "metadata": {
        "colab_type": "code",
        "outputId": "4f29aaa4-a44d-4288-df9c-2df44e11ca16",
        "id": "S1QhkI9VR7Xs",
        "colab": {
          "base_uri": "https://localhost:8080/",
          "height": 282
        }
      },
      "source": [
        "from sklearn.metrics import silhouette_score\n",
        "silhouette_scores = [silhouette_score(revenue, model.labels_) for model in kmeans_per_k[1:]]\n",
        "plt.figure(figsize=(8, 4))\n",
        "plt.plot(range(2, 10), silhouette_scores, 'bo-')\n",
        "plt.xlabel('k cluster')\n",
        "plt.ylabel('silhouette score')\n",
        "plt.xticks(range(2, 10));"
      ],
      "execution_count": 110,
      "outputs": [
        {
          "output_type": "display_data",
          "data": {
            "image/png": "[encoded data removed]",
            "text/plain": [
              "<Figure size 576x288 with 1 Axes>"
            ]
          },
          "metadata": {
            "tags": []
          }
        }
      ]
    },
    {
      "cell_type": "markdown",
      "metadata": {
        "id": "25OfojqgLeSB",
        "colab_type": "text"
      },
      "source": [
        "# K Means Clustering (exploring new methods)"
      ]
    },
    {
      "cell_type": "code",
      "metadata": {
        "id": "yvPTh7-66Mxr",
        "colab_type": "code",
        "colab": {}
      },
      "source": [
        "from sklearn.cluster import KMeans\n",
        "k=5 #let's make 5 groups \n",
        "kmeans = KMeans(n_clusters=k)\n",
        "y_pred = kmeans.fit_predict(gb)"
      ],
      "execution_count": 0,
      "outputs": []
    },
    {
      "cell_type": "code",
      "metadata": {
        "id": "sowPi5Up7Plu",
        "colab_type": "code",
        "colab": {
          "base_uri": "https://localhost:8080/",
          "height": 108
        },
        "outputId": "2f7b7996-fa69-47fc-9ae9-28b938682937"
      },
      "source": [
        "# The center of each classes\n",
        "kmeans.cluster_centers_.round(3)"
      ],
      "execution_count": 49,
      "outputs": [
        {
          "output_type": "execute_result",
          "data": {
            "text/plain": [
              "array([[  6.498,  17.925,   3.019],\n",
              "       [  1.462, 247.876,   0.557],\n",
              "       [  2.113, 161.004,   0.712],\n",
              "       [  1.377, 336.306,   0.661],\n",
              "       [  2.741,  73.063,   0.996]])"
            ]
          },
          "metadata": {
            "tags": []
          },
          "execution_count": 49
        }
      ]
    },
    {
      "cell_type": "markdown",
      "metadata": {
        "id": "X32tFnJg8C76",
        "colab_type": "text"
      },
      "source": [
        "## inertia\n"
      ]
    },
    {
      "cell_type": "markdown",
      "metadata": {
        "id": "sqvbQ4Ve8F04",
        "colab_type": "text"
      },
      "source": [
        "Inertia is the sum of the squared distances between each training instance and its closest centroid."
      ]
    },
    {
      "cell_type": "code",
      "metadata": {
        "id": "zrsSlMlA7X9w",
        "colab_type": "code",
        "colab": {
          "base_uri": "https://localhost:8080/",
          "height": 35
        },
        "outputId": "1d3546be-86fb-48e3-d3db-e73b31cf9da0"
      },
      "source": [
        "# inertia the smaller the better\n",
        "kmeans.inertia_"
      ],
      "execution_count": 50,
      "outputs": [
        {
          "output_type": "execute_result",
          "data": {
            "text/plain": [
              "1757311.4780574543"
            ]
          },
          "metadata": {
            "tags": []
          },
          "execution_count": 50
        }
      ]
    },
    {
      "cell_type": "markdown",
      "metadata": {
        "id": "_Lf1W9DJ8j_q",
        "colab_type": "text"
      },
      "source": [
        "## choosing optimal k clusters"
      ]
    },
    {
      "cell_type": "code",
      "metadata": {
        "id": "VGrEney58S4_",
        "colab_type": "code",
        "colab": {}
      },
      "source": [
        "kmeans_per_k = [KMeans(n_clusters=k, random_state=42).fit(gb) for k in range(1, 10)]\n",
        "inertias = [model.inertia_ for model in kmeans_per_k]"
      ],
      "execution_count": 0,
      "outputs": []
    },
    {
      "cell_type": "code",
      "metadata": {
        "id": "a7Xw9Axe8x2s",
        "colab_type": "code",
        "colab": {
          "base_uri": "https://localhost:8080/",
          "height": 409
        },
        "outputId": "fd0bc2e5-49e0-4f40-b787-c94f0927e1a6"
      },
      "source": [
        "plt.figure(figsize=(8, 6))\n",
        "plt.plot(range(1, 10), np.array(inertias)/1000000, 'bo-', linewidth=2)\n",
        "plt.xlabel('cluster K')\n",
        "plt.ylabel('inertia(M)')\n",
        "plt.axis([1, 8, 0, 55])"
      ],
      "execution_count": 52,
      "outputs": [
        {
          "output_type": "execute_result",
          "data": {
            "text/plain": [
              "(1.0, 8.0, 0.0, 55.0)"
            ]
          },
          "metadata": {
            "tags": []
          },
          "execution_count": 52
        },
        {
          "output_type": "display_data",
          "data": {
            "image/png": "[encoded data removed]",
            "text/plain": [
              "<Figure size 576x432 with 1 Axes>"
            ]
          },
          "metadata": {
            "tags": []
          }
        }
      ]
    },
    {
      "cell_type": "markdown",
      "metadata": {
        "id": "ySmH-yxIFvGq",
        "colab_type": "text"
      },
      "source": [
        "Using the the raw RFM value, the clusters have the optimal inertias at 2 clusters. With only two clusters are not likely help to identify customers group characteristics. This time, we give each RFM a score according to quantile."
      ]
    },
    {
      "cell_type": "code",
      "metadata": {
        "id": "8Pe5sO2M9iAe",
        "colab_type": "code",
        "colab": {}
      },
      "source": [
        "gb['RecencyScore'] = pd.qcut(gb['Recency'], 4, labels=[1,2,3,4])\n",
        "gb['FrequencyScore'] = pd.qcut(gb['Total_Orders'], [0, .5, .75, .95, 1], labels=[4,3,2,1])\n",
        "gb['RevenueScore'] = pd.qcut(gb['Total_Revenue(k)'], 4, labels=[4,3,2,1])"
      ],
      "execution_count": 0,
      "outputs": []
    },
    {
      "cell_type": "code",
      "metadata": {
        "id": "mA9YUaXgFFMm",
        "colab_type": "code",
        "colab": {}
      },
      "source": [
        "X = gb[['RecencyScore', 'FrequencyScore',  'RevenueScore']]\n",
        "kmeans_per_k = [KMeans(n_clusters=k, random_state=42).fit(X) for k in range(1, 20)]\n",
        "inertias = [model.inertia_ for model in kmeans_per_k]"
      ],
      "execution_count": 0,
      "outputs": []
    },
    {
      "cell_type": "code",
      "metadata": {
        "id": "USs9CLOj-ABn",
        "colab_type": "code",
        "colab": {
          "base_uri": "https://localhost:8080/",
          "height": 396
        },
        "outputId": "841be38e-828d-493c-a932-8617328e0b10"
      },
      "source": [
        "plt.figure(figsize=(8, 6))\n",
        "plt.plot(range(1, 20), inertias, 'bo-', linewidth=2)\n",
        "plt.xlabel('cluster K')\n",
        "plt.ylabel('inertia')\n",
        "plt.axis([1, 20, 0, 14000])\n",
        "plt.xticks(range(1, 20));"
      ],
      "execution_count": 79,
      "outputs": [
        {
          "output_type": "display_data",
          "data": {
            "image/png": "[encoded data removed]",
            "text/plain": [
              "<Figure size 576x432 with 1 Axes>"
            ]
          },
          "metadata": {
            "tags": []
          }
        }
      ]
    },
    {
      "cell_type": "markdown",
      "metadata": {
        "id": "mdgc-lHJGVkz",
        "colab_type": "text"
      },
      "source": [
        "Based on above elbow shape, we consider to use k=4 or k=5. The slop of inertia starts to become much smaller than k=5."
      ]
    },
    {
      "cell_type": "markdown",
      "metadata": {
        "id": "444S45mKGz21",
        "colab_type": "text"
      },
      "source": [
        "## silhouette score\n"
      ]
    },
    {
      "cell_type": "markdown",
      "metadata": {
        "id": "nU1BpYUeG2uU",
        "colab_type": "text"
      },
      "source": [
        "Another method is to use silhouette score to measure the ratio of average instance within cluster and average distance between other clusters."
      ]
    },
    {
      "cell_type": "code",
      "metadata": {
        "id": "a2aEIT5hGxlQ",
        "colab_type": "code",
        "colab": {
          "base_uri": "https://localhost:8080/",
          "height": 345
        },
        "outputId": "c655dfe2-8791-4e2e-b384-8b71041f52da"
      },
      "source": [
        "from sklearn.metrics import silhouette_score\n",
        "silhouette_scores = [silhouette_score(X, model.labels_) for model in kmeans_per_k[1:]]\n",
        "silhouette_scores"
      ],
      "execution_count": 80,
      "outputs": [
        {
          "output_type": "execute_result",
          "data": {
            "text/plain": [
              "[0.4498582603719513,\n",
              " 0.42073034083636635,\n",
              " 0.44242884124951604,\n",
              " 0.4491898389541371,\n",
              " 0.44964880378583916,\n",
              " 0.43911126971147046,\n",
              " 0.4566308160643437,\n",
              " 0.5194784965246436,\n",
              " 0.5550022501998936,\n",
              " 0.5175919167609895,\n",
              " 0.5471482157562271,\n",
              " 0.5945606624982722,\n",
              " 0.6337442185861201,\n",
              " 0.6541287985906267,\n",
              " 0.6760428854663296,\n",
              " 0.698790339496513,\n",
              " 0.730355412101882,\n",
              " 0.7505014892952322]"
            ]
          },
          "metadata": {
            "tags": []
          },
          "execution_count": 80
        }
      ]
    },
    {
      "cell_type": "code",
      "metadata": {
        "id": "s2PJrODTG6tu",
        "colab_type": "code",
        "colab": {
          "base_uri": "https://localhost:8080/",
          "height": 282
        },
        "outputId": "92ad059c-a586-4c92-c890-ad75029e8c4a"
      },
      "source": [
        "plt.figure(figsize=(8, 4))\n",
        "plt.plot(range(2, 20), silhouette_scores, 'bo-')\n",
        "plt.xlabel('k cluster')\n",
        "plt.ylabel('silhouette score')\n",
        "plt.xticks(range(2, 20));"
      ],
      "execution_count": 84,
      "outputs": [
        {
          "output_type": "display_data",
          "data": {
            "image/png": "[encoded data removed]",
            "text/plain": [
              "<Figure size 576x288 with 1 Axes>"
            ]
          },
          "metadata": {
            "tags": []
          }
        }
      ]
    },
    {
      "cell_type": "markdown",
      "metadata": {
        "id": "1DN7JfLPI4a8",
        "colab_type": "text"
      },
      "source": [
        "At cluster 10, we have a peak score."
      ]
    },
    {
      "cell_type": "markdown",
      "metadata": {
        "id": "IvKLe7AgJGgK",
        "colab_type": "text"
      },
      "source": [
        "## sihouette diagram"
      ]
    },
    {
      "cell_type": "markdown",
      "metadata": {
        "id": "LNNqFnzDJMMB",
        "colab_type": "text"
      },
      "source": [
        "This is the best way to visualize clusters. It shows the total sample size in each cluster, and sihouette scores as well."
      ]
    },
    {
      "cell_type": "code",
      "metadata": {
        "id": "OLdfGiJlIllM",
        "colab_type": "code",
        "colab": {
          "base_uri": "https://localhost:8080/",
          "height": 573
        },
        "outputId": "f0e194a9-fcbd-4352-9187-0fcc8d4c12ca"
      },
      "source": [
        "# https://scikit-learn.org/stable/auto_examples/cluster/plot_kmeans_silhouette_analysis.html\n",
        "\n",
        "from sklearn.metrics import silhouette_samples\n",
        "from matplotlib.ticker import FixedLocator, FixedFormatter\n",
        "\n",
        "plt.figure(figsize=(11, 9))\n",
        "\n",
        "for a, k in enumerate([4, 5, 9, 10]):\n",
        "    plt.subplot(2, 2, a+1)\n",
        "    \n",
        "    y_pred = kmeans_per_k[k - 1].labels_\n",
        "    silhouette_coefficients = silhouette_samples(X, y_pred)\n",
        "\n",
        "    padding = len(X) // 30\n",
        "    pos = padding\n",
        "    ticks = []\n",
        "    for i in range(k):\n",
        "        coeffs = silhouette_coefficients[y_pred == i]\n",
        "        coeffs.sort()\n",
        "\n",
        "        color = mpl.cm.Spectral(i / k)\n",
        "        plt.fill_betweenx(np.arange(pos, pos + len(coeffs)), 0, coeffs,\n",
        "                          facecolor=color, edgecolor=color, alpha=0.7)\n",
        "        ticks.append(pos + len(coeffs) // 2)\n",
        "        pos += len(coeffs) + padding\n",
        "\n",
        "    plt.gca().yaxis.set_major_locator(FixedLocator(ticks))\n",
        "    plt.gca().yaxis.set_major_formatter(FixedFormatter(range(k)))\n",
        "    if k in (4, 9):\n",
        "        plt.ylabel(\"Cluster\")\n",
        "    \n",
        "    if k in (9, 10):\n",
        "        plt.gca().set_xticks([-0.1, 0, 0.2, 0.4, 0.6, 0.8, 1])\n",
        "        plt.xlabel(\"Silhouette Coefficient\")\n",
        "    else:\n",
        "        plt.tick_params(labelbottom=False)\n",
        "\n",
        "    plt.axvline(x=silhouette_scores[k - 2], color=\"red\", linestyle=\"--\")\n",
        "    plt.title(\"$k={}$\".format(k), fontsize=16)\n",
        "\n",
        "\n",
        "plt.show()"
      ],
      "execution_count": 89,
      "outputs": [
        {
          "output_type": "display_data",
          "data": {
            "image/png": "[encoded data removed]",
            "text/plain": [
              "<Figure size 792x648 with 4 Axes>"
            ]
          },
          "metadata": {
            "tags": []
          }
        }
      ]
    },
    {
      "cell_type": "markdown",
      "metadata": {
        "id": "QaqKBcO4LRuk",
        "colab_type": "text"
      },
      "source": [
        "when cluster k=4, each cluster's sample size is more equal than k=5."
      ]
    },
    {
      "cell_type": "markdown",
      "metadata": {
        "id": "Sq2iownWNFY6",
        "colab_type": "text"
      },
      "source": [
        "## giving 6 index to each rfm"
      ]
    },
    {
      "cell_type": "code",
      "metadata": {
        "colab_type": "code",
        "id": "Grh3bU4WNSR2",
        "colab": {}
      },
      "source": [
        "gb['Recency6Score'] = pd.qcut(gb['Recency'], 6, labels=list(range(1, 7)))\n",
        "gb['Frequency6Score'] = pd.qcut(gb['Total_Orders'], [0, 0.5, 0.6, 0.7, 0.8, 0.9, 1], labels=list(range(6, 0, -1)))\n",
        "gb['Revenue6Score'] = pd.qcut(gb['Total_Revenue(k)'], [0, 0.5, 0.6, 0.7, 0.8, 0.9, 1], labels=list(range(6, 0, -1)))"
      ],
      "execution_count": 0,
      "outputs": []
    },
    {
      "cell_type": "code",
      "metadata": {
        "colab_type": "code",
        "id": "4lHpG9SRNSR9",
        "colab": {}
      },
      "source": [
        "X = gb[['Recency6Score', 'Frequency6Score',  'Revenue6Score']]\n",
        "kmeans_per_k = [KMeans(n_clusters=k, random_state=42).fit(X) for k in range(1, 20)]\n",
        "inertias = [model.inertia_ for model in kmeans_per_k]"
      ],
      "execution_count": 0,
      "outputs": []
    },
    {
      "cell_type": "code",
      "metadata": {
        "colab_type": "code",
        "outputId": "de287b64-152e-424f-ef39-9fb7d9416932",
        "id": "W1RsrRSBNSSA",
        "colab": {
          "base_uri": "https://localhost:8080/",
          "height": 396
        }
      },
      "source": [
        "plt.figure(figsize=(8, 6))\n",
        "plt.plot(range(1, 20), inertias, 'bo-', linewidth=2)\n",
        "plt.xlabel('cluster K')\n",
        "plt.ylabel('inertia')\n",
        "plt.axis([1, 20, 0, 14000])\n",
        "plt.xticks(range(1, 20));"
      ],
      "execution_count": 104,
      "outputs": [
        {
          "output_type": "display_data",
          "data": {
            "image/png": "[encoded data removed]",
            "text/plain": [
              "<Figure size 576x432 with 1 Axes>"
            ]
          },
          "metadata": {
            "tags": []
          }
        }
      ]
    },
    {
      "cell_type": "markdown",
      "metadata": {
        "id": "slEsQ4QnPTft",
        "colab_type": "text"
      },
      "source": [
        "Giving the score to each RFM and then cluster customer based on these scores doesn't give a good indication of elbow joint. By giving 6 indexes of each rfm, the inertia decreased compared to the inertia from 4 indexs.\n",
        "\n",
        "We can consider to use clustering directly to give index on each rfm metric, and then use the composite score to match customers into category."
      ]
    },
    {
      "cell_type": "code",
      "metadata": {
        "id": "CVDkFM24QBBT",
        "colab_type": "code",
        "colab": {}
      },
      "source": [
        ""
      ],
      "execution_count": 0,
      "outputs": []
    }
  ]
}